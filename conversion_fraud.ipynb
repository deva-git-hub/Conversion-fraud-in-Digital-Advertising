{
  "nbformat": 4,
  "nbformat_minor": 0,
  "metadata": {
    "colab": {
      "name": "conversion fraud.ipynb",
      "provenance": [],
      "collapsed_sections": []
    },
    "kernelspec": {
      "name": "python3",
      "display_name": "Python 3"
    },
    "language_info": {
      "name": "python"
    }
  },
  "cells": [
    {
      "cell_type": "code",
      "metadata": {
        "id": "3II_5W8LTOpt"
      },
      "source": [
        "import pandas as pd\n",
        "import numpy as np\n",
        "import sys"
      ],
      "execution_count": 1,
      "outputs": []
    },
    {
      "cell_type": "code",
      "metadata": {
        "colab": {
          "base_uri": "https://localhost:8080/"
        },
        "id": "GdcLYDP3UPGJ",
        "outputId": "7ff251e0-d670-4cfe-f058-f22f3a366df4"
      },
      "source": [
        "click_logs = pd.read_csv(\"https://www.techgig.com/files/DataScienceData/326708/click_log.csv\")\n"
      ],
      "execution_count": null,
      "outputs": [
        {
          "output_type": "stream",
          "text": [
            "/usr/local/lib/python3.7/dist-packages/IPython/core/interactiveshell.py:2718: DtypeWarning: Columns (22,24,25,26,29,30,31,32,33,34,46,47,48,49,50,51,52,53,54) have mixed types.Specify dtype option on import or set low_memory=False.\n",
            "  interactivity=interactivity, compiler=compiler, result=result)\n"
          ],
          "name": "stderr"
        }
      ]
    },
    {
      "cell_type": "code",
      "metadata": {
        "id": "3SLgdVDJ--AP",
        "colab": {
          "base_uri": "https://localhost:8080/"
        },
        "outputId": "5aff853a-cb4d-4570-d2cf-3eb0cfc82774"
      },
      "source": [
        "click_logs.shape"
      ],
      "execution_count": null,
      "outputs": [
        {
          "output_type": "execute_result",
          "data": {
            "text/plain": [
              "(244864, 55)"
            ]
          },
          "metadata": {
            "tags": []
          },
          "execution_count": 3
        }
      ]
    },
    {
      "cell_type": "code",
      "metadata": {
        "colab": {
          "base_uri": "https://localhost:8080/",
          "height": 551
        },
        "id": "E4ldcxU8_QGn",
        "outputId": "259b7705-8c52-4716-9ae7-c50a10a0c9fb"
      },
      "source": [
        "click_logs.head()"
      ],
      "execution_count": null,
      "outputs": [
        {
          "output_type": "execute_result",
          "data": {
            "text/html": [
              "<div>\n",
              "<style scoped>\n",
              "    .dataframe tbody tr th:only-of-type {\n",
              "        vertical-align: middle;\n",
              "    }\n",
              "\n",
              "    .dataframe tbody tr th {\n",
              "        vertical-align: top;\n",
              "    }\n",
              "\n",
              "    .dataframe thead th {\n",
              "        text-align: right;\n",
              "    }\n",
              "</style>\n",
              "<table border=\"1\" class=\"dataframe\">\n",
              "  <thead>\n",
              "    <tr style=\"text-align: right;\">\n",
              "      <th></th>\n",
              "      <th>Unnamed: 0</th>\n",
              "      <th>imprId</th>\n",
              "      <th>clmbUserId</th>\n",
              "      <th>adSltDimId</th>\n",
              "      <th>auds</th>\n",
              "      <th>allAuds</th>\n",
              "      <th>itemid</th>\n",
              "      <th>algo</th>\n",
              "      <th>advClientId</th>\n",
              "      <th>pubClientId</th>\n",
              "      <th>itmClmbLId</th>\n",
              "      <th>tmpltId</th>\n",
              "      <th>refUrl</th>\n",
              "      <th>clickBid</th>\n",
              "      <th>clickXForwardedFor</th>\n",
              "      <th>position</th>\n",
              "      <th>paid</th>\n",
              "      <th>siteId</th>\n",
              "      <th>callIdentifier</th>\n",
              "      <th>crtd</th>\n",
              "      <th>adslotRatio</th>\n",
              "      <th>pricingType</th>\n",
              "      <th>usrClusterId</th>\n",
              "      <th>siteClusterIds</th>\n",
              "      <th>ctxCatId</th>\n",
              "      <th>uuidSource</th>\n",
              "      <th>clickIp</th>\n",
              "      <th>clickGeoId</th>\n",
              "      <th>esi</th>\n",
              "      <th>adBlockerDetectionValueId</th>\n",
              "      <th>bundleId</th>\n",
              "      <th>impressionServedTimeStamp</th>\n",
              "      <th>appver</th>\n",
              "      <th>topic</th>\n",
              "      <th>ip</th>\n",
              "      <th>geoDimId</th>\n",
              "      <th>countryDimId</th>\n",
              "      <th>geoGrpDimId</th>\n",
              "      <th>cityDimId</th>\n",
              "      <th>cityGrpDimId</th>\n",
              "      <th>stateDimId</th>\n",
              "      <th>stateGrpDimId</th>\n",
              "      <th>ispDimId</th>\n",
              "      <th>osDimId</th>\n",
              "      <th>osVerDimId</th>\n",
              "      <th>devTypeDimId</th>\n",
              "      <th>vendorDimId</th>\n",
              "      <th>modelDimId</th>\n",
              "      <th>connTypeDimId</th>\n",
              "      <th>browserDimId</th>\n",
              "      <th>refClusterId</th>\n",
              "      <th>fraud</th>\n",
              "      <th>cpa</th>\n",
              "      <th>imprUserId</th>\n",
              "      <th>optout</th>\n",
              "    </tr>\n",
              "  </thead>\n",
              "  <tbody>\n",
              "    <tr>\n",
              "      <th>0</th>\n",
              "      <td>0</td>\n",
              "      <td>72efd138-0f6a-4aed-bd3f-9bdd70c0e869-1sjts</td>\n",
              "      <td>e91fcf75-a645-40f6-ab1f-411017d1d19a-631k</td>\n",
              "      <td>207251</td>\n",
              "      <td>2vv,8k8,8gv,2vk,8gw,joa</td>\n",
              "      <td>7dm,cy9,5b2,oy7,p98,lo4,p12,p16,apc,p18,nqy,ic...</td>\n",
              "      <td>52696204</td>\n",
              "      <td>18</td>\n",
              "      <td>330</td>\n",
              "      <td>2310</td>\n",
              "      <td>5618155</td>\n",
              "      <td>5627.0</td>\n",
              "      <td>https%3A%2F%2Fnavbharattimes.indiatimes.com%2F...</td>\n",
              "      <td>13.10040</td>\n",
              "      <td>103.212.158.109, 23.59.168.135, 124.124.201.229</td>\n",
              "      <td>0</td>\n",
              "      <td>1</td>\n",
              "      <td>16</td>\n",
              "      <td>B166b630l8021616125598649pzmfku8tlbktbqtjht65t</td>\n",
              "      <td>1.620000e+12</td>\n",
              "      <td>0.024</td>\n",
              "      <td>6.0</td>\n",
              "      <td>333,734,333,729,333,000</td>\n",
              "      <td>128,527,333,734,333,000</td>\n",
              "      <td>205295-1</td>\n",
              "      <td>1</td>\n",
              "      <td>103.212.158.109</td>\n",
              "      <td>144.0</td>\n",
              "      <td>0.0</td>\n",
              "      <td>4</td>\n",
              "      <td>NaN</td>\n",
              "      <td>86</td>\n",
              "      <td>NaN</td>\n",
              "      <td>AdServe</td>\n",
              "      <td>122.176.114.222</td>\n",
              "      <td>144</td>\n",
              "      <td>144</td>\n",
              "      <td>348011.0</td>\n",
              "      <td>440.0</td>\n",
              "      <td>348005.0</td>\n",
              "      <td>1802.0</td>\n",
              "      <td>348021.0</td>\n",
              "      <td>136127.0</td>\n",
              "      <td>196063.0</td>\n",
              "      <td>199414.0</td>\n",
              "      <td>196047.0</td>\n",
              "      <td>196460</td>\n",
              "      <td>202038</td>\n",
              "      <td>264494</td>\n",
              "      <td>129639</td>\n",
              "      <td>NaN</td>\n",
              "      <td>NaN</td>\n",
              "      <td>NaN</td>\n",
              "      <td>NaN</td>\n",
              "      <td>NaN</td>\n",
              "    </tr>\n",
              "    <tr>\n",
              "      <th>1</th>\n",
              "      <td>0</td>\n",
              "      <td>210a7e16-6783-46a5-9246-c635db091490-3qpg</td>\n",
              "      <td>be37dc3a-d12b-4aa5-bd39-1e42ede9d6b9-6mhk</td>\n",
              "      <td>356952</td>\n",
              "      <td>8gw,2vb,o3b</td>\n",
              "      <td>hkf,n5n,59j,p9q,n3p,p9t,o1o,41j,o1n,nyw,n3s,n5...</td>\n",
              "      <td>53622457</td>\n",
              "      <td>18</td>\n",
              "      <td>330</td>\n",
              "      <td>85030</td>\n",
              "      <td>5617956</td>\n",
              "      <td>5167.0</td>\n",
              "      <td>https%3A%2F%2Fwww.olx.in%2F</td>\n",
              "      <td>4.58514</td>\n",
              "      <td>2409:4055:2e87:42e9:4dec:ae38:609e:8932, 49.44...</td>\n",
              "      <td>1</td>\n",
              "      <td>1</td>\n",
              "      <td>3290</td>\n",
              "      <td>q613U220R8891616126263941lu54rceq6xilidopi88m0k</td>\n",
              "      <td>1.620000e+12</td>\n",
              "      <td>1.000</td>\n",
              "      <td>16.0</td>\n",
              "      <td>NaN</td>\n",
              "      <td>NaN</td>\n",
              "      <td>205295-1</td>\n",
              "      <td>1</td>\n",
              "      <td>2409:4055:2e87:42e9:4dec:ae38:609e:8932</td>\n",
              "      <td>144.0</td>\n",
              "      <td>0.0</td>\n",
              "      <td>4</td>\n",
              "      <td>NaN</td>\n",
              "      <td>12</td>\n",
              "      <td>NaN</td>\n",
              "      <td>AdServe</td>\n",
              "      <td>2409:4055:2e87:42e9:4dec:ae38:609e:8932</td>\n",
              "      <td>144</td>\n",
              "      <td>144</td>\n",
              "      <td>348011.0</td>\n",
              "      <td>10292.0</td>\n",
              "      <td>348005.0</td>\n",
              "      <td>1812.0</td>\n",
              "      <td>348027.0</td>\n",
              "      <td>280429.0</td>\n",
              "      <td>196058.0</td>\n",
              "      <td>199452.0</td>\n",
              "      <td>196047.0</td>\n",
              "      <td>196460</td>\n",
              "      <td>202038</td>\n",
              "      <td>264496</td>\n",
              "      <td>129639</td>\n",
              "      <td>NaN</td>\n",
              "      <td>NaN</td>\n",
              "      <td>NaN</td>\n",
              "      <td>NaN</td>\n",
              "      <td>NaN</td>\n",
              "    </tr>\n",
              "    <tr>\n",
              "      <th>2</th>\n",
              "      <td>0</td>\n",
              "      <td>179d3fbb-3e10-435d-851d-f65029ef2eb4-10ntc</td>\n",
              "      <td>faceec73-d833-4bd6-b878-3bc27d2638dd-10uao</td>\n",
              "      <td>350086</td>\n",
              "      <td>2vv,8k8,2vk,8gw</td>\n",
              "      <td>o1j,o1o,oy7,o1n,nyw,oww,lo4,p12,apc,358,5o2,o6...</td>\n",
              "      <td>53622457</td>\n",
              "      <td>38</td>\n",
              "      <td>330</td>\n",
              "      <td>2658</td>\n",
              "      <td>5617956</td>\n",
              "      <td>5657.0</td>\n",
              "      <td>https%3A%2F%2Ftimesofindia.indiatimes.com%2F</td>\n",
              "      <td>4.58514</td>\n",
              "      <td>2405:201:c00e:4087:5838:cbcb:8571:e8c0, 49.44....</td>\n",
              "      <td>159934117</td>\n",
              "      <td>1</td>\n",
              "      <td>3</td>\n",
              "      <td>E660S185t880</td>\n",
              "      <td>1.620000e+12</td>\n",
              "      <td>1.000</td>\n",
              "      <td>16.0</td>\n",
              "      <td>333496</td>\n",
              "      <td>333,734,128,527,333,000</td>\n",
              "      <td>205295-1</td>\n",
              "      <td>1</td>\n",
              "      <td>2405:201:c00e:4087:5838:cbcb:8571:e8c0</td>\n",
              "      <td>144.0</td>\n",
              "      <td>0.0</td>\n",
              "      <td>4</td>\n",
              "      <td>NaN</td>\n",
              "      <td>24</td>\n",
              "      <td>NaN</td>\n",
              "      <td>AdServe</td>\n",
              "      <td>2405:201:c00e:4087:5838:cbcb:8571:e8c0</td>\n",
              "      <td>144</td>\n",
              "      <td>144</td>\n",
              "      <td>348011.0</td>\n",
              "      <td>435.0</td>\n",
              "      <td>348008.0</td>\n",
              "      <td>129163.0</td>\n",
              "      <td>348023.0</td>\n",
              "      <td>280429.0</td>\n",
              "      <td>196063.0</td>\n",
              "      <td>199414.0</td>\n",
              "      <td>196047.0</td>\n",
              "      <td>196460</td>\n",
              "      <td>202038</td>\n",
              "      <td>264496</td>\n",
              "      <td>129639</td>\n",
              "      <td>NaN</td>\n",
              "      <td>NaN</td>\n",
              "      <td>NaN</td>\n",
              "      <td>NaN</td>\n",
              "      <td>NaN</td>\n",
              "    </tr>\n",
              "    <tr>\n",
              "      <th>3</th>\n",
              "      <td>0</td>\n",
              "      <td>79ce617b-88bf-46db-8069-6c892df6a306-1sjo8</td>\n",
              "      <td>113b0b7e-d065-4f14-861e-7bbb49683b15-10u2c</td>\n",
              "      <td>356952</td>\n",
              "      <td>2vv,nqv,2vk,8gw,2vb,o3b</td>\n",
              "      <td>n7j,pf9,n90,n91,n98,o1o,nyw,o1n,lo4,nqv,igs,ap...</td>\n",
              "      <td>53622457</td>\n",
              "      <td>38</td>\n",
              "      <td>330</td>\n",
              "      <td>85030</td>\n",
              "      <td>5617956</td>\n",
              "      <td>5167.0</td>\n",
              "      <td>https%3A%2F%2Fwww.olx.in%2F</td>\n",
              "      <td>5.09460</td>\n",
              "      <td>106.213.27.57, 23.58.93.149, 23.45.91.49</td>\n",
              "      <td>1</td>\n",
              "      <td>1</td>\n",
              "      <td>3290</td>\n",
              "      <td>G168U347S671616094330288c73g9hzkscvsrdrr8eklu</td>\n",
              "      <td>1.620000e+12</td>\n",
              "      <td>1.000</td>\n",
              "      <td>16.0</td>\n",
              "      <td>333,494,333,507</td>\n",
              "      <td>NaN</td>\n",
              "      <td>205295-1</td>\n",
              "      <td>1</td>\n",
              "      <td>106.213.27.57</td>\n",
              "      <td>144.0</td>\n",
              "      <td>0.0</td>\n",
              "      <td>4</td>\n",
              "      <td>NaN</td>\n",
              "      <td>3</td>\n",
              "      <td>NaN</td>\n",
              "      <td>AdServe</td>\n",
              "      <td>106.213.27.57</td>\n",
              "      <td>144</td>\n",
              "      <td>144</td>\n",
              "      <td>348011.0</td>\n",
              "      <td>10255.0</td>\n",
              "      <td>348005.0</td>\n",
              "      <td>1804.0</td>\n",
              "      <td>348027.0</td>\n",
              "      <td>136127.0</td>\n",
              "      <td>129300.0</td>\n",
              "      <td>199522.0</td>\n",
              "      <td>196047.0</td>\n",
              "      <td>196460</td>\n",
              "      <td>202038</td>\n",
              "      <td>264496</td>\n",
              "      <td>129639</td>\n",
              "      <td>NaN</td>\n",
              "      <td>NaN</td>\n",
              "      <td>NaN</td>\n",
              "      <td>NaN</td>\n",
              "      <td>NaN</td>\n",
              "    </tr>\n",
              "    <tr>\n",
              "      <th>4</th>\n",
              "      <td>0</td>\n",
              "      <td>c8f88058-af7e-4284-8c88-2410d94f82e3-1sjo8</td>\n",
              "      <td>2b3dac7e-d4dd-4ae7-936d-1f9b4c73493d-h0hg</td>\n",
              "      <td>129239</td>\n",
              "      <td>8kv,8j6,8k8,2vk,2vl,8gw,3si,2vt,2vv,nqv,2vb,8l...</td>\n",
              "      <td>n7j,nyw,592,n7x,n7z,qq5,apc,n8a,359,n8e,n8g,ap...</td>\n",
              "      <td>53622457</td>\n",
              "      <td>38</td>\n",
              "      <td>330</td>\n",
              "      <td>15240</td>\n",
              "      <td>5617956</td>\n",
              "      <td>663.0</td>\n",
              "      <td>https%3A%2F%2Fwww.cricbuzz.com%2Flive-cricket-...</td>\n",
              "      <td>4.58514</td>\n",
              "      <td>103.48.46.23, 23.63.110.60, 23.57.76.153</td>\n",
              "      <td>1</td>\n",
              "      <td>1</td>\n",
              "      <td>178</td>\n",
              "      <td>B681N654k146</td>\n",
              "      <td>1.620000e+12</td>\n",
              "      <td>1.000</td>\n",
              "      <td>16.0</td>\n",
              "      <td>333,493,333,494</td>\n",
              "      <td>NaN</td>\n",
              "      <td>205295-1</td>\n",
              "      <td>1</td>\n",
              "      <td>103.48.46.23</td>\n",
              "      <td>144.0</td>\n",
              "      <td>0.0</td>\n",
              "      <td>4</td>\n",
              "      <td>NaN</td>\n",
              "      <td>8</td>\n",
              "      <td>NaN</td>\n",
              "      <td>AdServe</td>\n",
              "      <td>103.48.46.23</td>\n",
              "      <td>144</td>\n",
              "      <td>144</td>\n",
              "      <td>348011.0</td>\n",
              "      <td>0.0</td>\n",
              "      <td>NaN</td>\n",
              "      <td>1804.0</td>\n",
              "      <td>348027.0</td>\n",
              "      <td>132590.0</td>\n",
              "      <td>129300.0</td>\n",
              "      <td>199522.0</td>\n",
              "      <td>196047.0</td>\n",
              "      <td>196460</td>\n",
              "      <td>202038</td>\n",
              "      <td>264494</td>\n",
              "      <td>129639</td>\n",
              "      <td>NaN</td>\n",
              "      <td>NaN</td>\n",
              "      <td>NaN</td>\n",
              "      <td>NaN</td>\n",
              "      <td>NaN</td>\n",
              "    </tr>\n",
              "  </tbody>\n",
              "</table>\n",
              "</div>"
            ],
            "text/plain": [
              "   Unnamed: 0                                      imprId  ... imprUserId  optout\n",
              "0           0  72efd138-0f6a-4aed-bd3f-9bdd70c0e869-1sjts  ...        NaN     NaN\n",
              "1           0   210a7e16-6783-46a5-9246-c635db091490-3qpg  ...        NaN     NaN\n",
              "2           0  179d3fbb-3e10-435d-851d-f65029ef2eb4-10ntc  ...        NaN     NaN\n",
              "3           0  79ce617b-88bf-46db-8069-6c892df6a306-1sjo8  ...        NaN     NaN\n",
              "4           0  c8f88058-af7e-4284-8c88-2410d94f82e3-1sjo8  ...        NaN     NaN\n",
              "\n",
              "[5 rows x 55 columns]"
            ]
          },
          "metadata": {
            "tags": []
          },
          "execution_count": 4
        }
      ]
    },
    {
      "cell_type": "code",
      "metadata": {
        "colab": {
          "base_uri": "https://localhost:8080/"
        },
        "id": "GLz6qMARUbqW",
        "outputId": "3905106d-f93c-4e72-e78d-ff620d6dab78"
      },
      "source": [
        "\n",
        "961+455"
      ],
      "execution_count": null,
      "outputs": [
        {
          "output_type": "execute_result",
          "data": {
            "text/plain": [
              "1416"
            ]
          },
          "metadata": {
            "tags": []
          },
          "execution_count": 15
        }
      ]
    },
    {
      "cell_type": "code",
      "metadata": {
        "id": "M171ql96VWy3"
      },
      "source": [
        "train_df = pd.read_csv(\"https://www.techgig.com/files/DataScienceData/326708/Training%20Data.csv\")\n",
        "test_df = pd.read_csv(\"https://www.techgig.com/files/DataScienceData/326708/Test%20Data.csv\")"
      ],
      "execution_count": null,
      "outputs": []
    },
    {
      "cell_type": "code",
      "metadata": {
        "id": "SYd7Cv1bIdy0"
      },
      "source": [
        "train_df.drop_duplicates(inplace = True)"
      ],
      "execution_count": null,
      "outputs": []
    },
    {
      "cell_type": "code",
      "metadata": {
        "colab": {
          "base_uri": "https://localhost:8080/",
          "height": 534
        },
        "id": "aHJlHx2vr0yI",
        "outputId": "f981806c-39d9-45cf-cb55-2d2fc4435aa1"
      },
      "source": [
        "train_df.head()"
      ],
      "execution_count": null,
      "outputs": [
        {
          "output_type": "execute_result",
          "data": {
            "text/html": [
              "<div>\n",
              "<style scoped>\n",
              "    .dataframe tbody tr th:only-of-type {\n",
              "        vertical-align: middle;\n",
              "    }\n",
              "\n",
              "    .dataframe tbody tr th {\n",
              "        vertical-align: top;\n",
              "    }\n",
              "\n",
              "    .dataframe thead th {\n",
              "        text-align: right;\n",
              "    }\n",
              "</style>\n",
              "<table border=\"1\" class=\"dataframe\">\n",
              "  <thead>\n",
              "    <tr style=\"text-align: right;\">\n",
              "      <th></th>\n",
              "      <th>clientid_cr</th>\n",
              "      <th>clmbuserid_cr</th>\n",
              "      <th>conversiontime_cr</th>\n",
              "      <th>imprid_cr</th>\n",
              "      <th>adslotdimid_cr</th>\n",
              "      <th>algo_cr</th>\n",
              "      <th>audiences_cr</th>\n",
              "      <th>clickbid_cr</th>\n",
              "      <th>geodimid_cr</th>\n",
              "      <th>ip_cr</th>\n",
              "      <th>itemcolumbiaid_cr</th>\n",
              "      <th>itemid_cr</th>\n",
              "      <th>position_cr</th>\n",
              "      <th>pubclientid_cr</th>\n",
              "      <th>refurl_cr</th>\n",
              "      <th>siteId_cr</th>\n",
              "      <th>templateid_cr</th>\n",
              "      <th>goalid_cr</th>\n",
              "      <th>time_cr</th>\n",
              "      <th>adLogType_cr</th>\n",
              "      <th>v_cr</th>\n",
              "      <th>allAudiences_cr</th>\n",
              "      <th>pricingtype_cr</th>\n",
              "      <th>osId_cr</th>\n",
              "      <th>browserId_cr</th>\n",
              "      <th>cityId_cr</th>\n",
              "      <th>stateId_cr</th>\n",
              "      <th>modelDimId_cr</th>\n",
              "      <th>lookUpFrom_cr</th>\n",
              "      <th>connTypeDimId_cr</th>\n",
              "      <th>ispDimId_cr</th>\n",
              "      <th>countryDimId_cr</th>\n",
              "      <th>goalTypeId_cr</th>\n",
              "      <th>conversionDurationInMillis_cr</th>\n",
              "      <th>impressionTimeInMillis_cr</th>\n",
              "      <th>clickTimeInMillis_cr</th>\n",
              "      <th>osVerDimId_cr</th>\n",
              "      <th>uuidSource_cr</th>\n",
              "      <th>geoGrpDimId_cr</th>\n",
              "      <th>stateGrpDimId_cr</th>\n",
              "      <th>deviceId_cr</th>\n",
              "      <th>uvh_cr</th>\n",
              "      <th>uv_cr</th>\n",
              "      <th>platformId_cr</th>\n",
              "      <th>sdkVersion_cr</th>\n",
              "      <th>usrClusterId_cr</th>\n",
              "      <th>cityGrpDimId_cr</th>\n",
              "      <th>siteClusterIds_cr</th>\n",
              "      <th>refClusterId_cr</th>\n",
              "      <th>paid_cr</th>\n",
              "      <th>spend_cr</th>\n",
              "      <th>attributionType_cr</th>\n",
              "      <th>conversionid_cr</th>\n",
              "      <th>optimize_on_cr</th>\n",
              "      <th>bundleId_cr</th>\n",
              "      <th>conversion_fraud</th>\n",
              "    </tr>\n",
              "  </thead>\n",
              "  <tbody>\n",
              "    <tr>\n",
              "      <th>0</th>\n",
              "      <td>75694</td>\n",
              "      <td>31629cd0-0b34-460f-aa61-80c3234e1225-1sjfw</td>\n",
              "      <td>1.620000e+12</td>\n",
              "      <td>01649076-c77f-4d70-afc8-213535427147-1sjd4</td>\n",
              "      <td>321300</td>\n",
              "      <td>38.0</td>\n",
              "      <td>8gw,o3b</td>\n",
              "      <td>2.869316</td>\n",
              "      <td>144</td>\n",
              "      <td>XXX.XXX.XXX.XXX</td>\n",
              "      <td>5488088</td>\n",
              "      <td>49504155</td>\n",
              "      <td>1.0</td>\n",
              "      <td>2320</td>\n",
              "      <td>https%3A%2F%2Fwww.timesjobs.com%2Fcandidate%2F...</td>\n",
              "      <td>34</td>\n",
              "      <td>4140.0</td>\n",
              "      <td>6384</td>\n",
              "      <td>1.620000e+12</td>\n",
              "      <td>2</td>\n",
              "      <td>1.0</td>\n",
              "      <td>7dn,6hs,35g,ome,omf,l32,nqo,2ws,qqo,lo4,oos,2w...</td>\n",
              "      <td>16</td>\n",
              "      <td>196058.0</td>\n",
              "      <td>129639.0</td>\n",
              "      <td>436.0</td>\n",
              "      <td>1806.0</td>\n",
              "      <td>202038.0</td>\n",
              "      <td>2</td>\n",
              "      <td>264496</td>\n",
              "      <td>280429.0</td>\n",
              "      <td>144.0</td>\n",
              "      <td>10</td>\n",
              "      <td>2332.0</td>\n",
              "      <td>1.620000e+12</td>\n",
              "      <td>1.620000e+12</td>\n",
              "      <td>199452.0</td>\n",
              "      <td>1.0</td>\n",
              "      <td>348011.0</td>\n",
              "      <td>348022.0</td>\n",
              "      <td>NaN</td>\n",
              "      <td>NaN</td>\n",
              "      <td>NaN</td>\n",
              "      <td>NaN</td>\n",
              "      <td>NaN</td>\n",
              "      <td>333495</td>\n",
              "      <td>348007.0</td>\n",
              "      <td>NaN</td>\n",
              "      <td>NaN</td>\n",
              "      <td>NaN</td>\n",
              "      <td>NaN</td>\n",
              "      <td>NaN</td>\n",
              "      <td>NaN</td>\n",
              "      <td>NaN</td>\n",
              "      <td>NaN</td>\n",
              "      <td>True</td>\n",
              "    </tr>\n",
              "    <tr>\n",
              "      <th>1</th>\n",
              "      <td>75694</td>\n",
              "      <td>4c98f114-c34c-48f4-84d6-50fc8e9b6d65-10wgg</td>\n",
              "      <td>1.620000e+12</td>\n",
              "      <td>f84d83b9-b757-4f97-9813-34f8dcc57cc5-1sjfw</td>\n",
              "      <td>129239</td>\n",
              "      <td>38.0</td>\n",
              "      <td>8kv,2vk,8gw,2vl</td>\n",
              "      <td>2.790000</td>\n",
              "      <td>144</td>\n",
              "      <td>XXX.XXX.XXX.XXX</td>\n",
              "      <td>5488773</td>\n",
              "      <td>49504157</td>\n",
              "      <td>1.0</td>\n",
              "      <td>15240</td>\n",
              "      <td>https%3A%2F%2Fwww.cricbuzz.com%2Flive-cricket-...</td>\n",
              "      <td>178</td>\n",
              "      <td>663.0</td>\n",
              "      <td>6384</td>\n",
              "      <td>1.620000e+12</td>\n",
              "      <td>2</td>\n",
              "      <td>1.0</td>\n",
              "      <td>h9r,35j,7dx,592,lo4,5o2,gau,75y,k8l,2ve,k8p,8k...</td>\n",
              "      <td>16</td>\n",
              "      <td>196058.0</td>\n",
              "      <td>129639.0</td>\n",
              "      <td>10314.0</td>\n",
              "      <td>1817.0</td>\n",
              "      <td>202038.0</td>\n",
              "      <td>2</td>\n",
              "      <td>264496</td>\n",
              "      <td>136127.0</td>\n",
              "      <td>144.0</td>\n",
              "      <td>10</td>\n",
              "      <td>3201.0</td>\n",
              "      <td>1.620000e+12</td>\n",
              "      <td>1.620000e+12</td>\n",
              "      <td>199452.0</td>\n",
              "      <td>1.0</td>\n",
              "      <td>348011.0</td>\n",
              "      <td>348024.0</td>\n",
              "      <td>NaN</td>\n",
              "      <td>NaN</td>\n",
              "      <td>NaN</td>\n",
              "      <td>NaN</td>\n",
              "      <td>NaN</td>\n",
              "      <td>NaN</td>\n",
              "      <td>348010.0</td>\n",
              "      <td>NaN</td>\n",
              "      <td>NaN</td>\n",
              "      <td>NaN</td>\n",
              "      <td>NaN</td>\n",
              "      <td>NaN</td>\n",
              "      <td>NaN</td>\n",
              "      <td>NaN</td>\n",
              "      <td>NaN</td>\n",
              "      <td>True</td>\n",
              "    </tr>\n",
              "    <tr>\n",
              "      <th>2</th>\n",
              "      <td>75694</td>\n",
              "      <td>cd92087a-54b0-4911-bc3d-1144a3c2babd-1sjlg</td>\n",
              "      <td>1.620000e+12</td>\n",
              "      <td>061edef6-3d9d-408b-884a-ad840e6930ce-10o78</td>\n",
              "      <td>321554</td>\n",
              "      <td>21.0</td>\n",
              "      <td>8gw,o3b</td>\n",
              "      <td>2.790000</td>\n",
              "      <td>144</td>\n",
              "      <td>XXX.XXX.XXX.XXX</td>\n",
              "      <td>5488088</td>\n",
              "      <td>49504160</td>\n",
              "      <td>1.0</td>\n",
              "      <td>2320</td>\n",
              "      <td>https%3A%2F%2Fwww.timesjobs.com%2Fcandidate%2F...</td>\n",
              "      <td>34</td>\n",
              "      <td>4144.0</td>\n",
              "      <td>6384</td>\n",
              "      <td>1.620000e+12</td>\n",
              "      <td>2</td>\n",
              "      <td>1.0</td>\n",
              "      <td>7dn,oy7,nqo,41j,2ws,lo4,oos,oou,apc,5o2,o6b,ox...</td>\n",
              "      <td>16</td>\n",
              "      <td>196058.0</td>\n",
              "      <td>129639.0</td>\n",
              "      <td>0.0</td>\n",
              "      <td>1812.0</td>\n",
              "      <td>202038.0</td>\n",
              "      <td>2</td>\n",
              "      <td>264503</td>\n",
              "      <td>172725.0</td>\n",
              "      <td>144.0</td>\n",
              "      <td>10</td>\n",
              "      <td>2821.0</td>\n",
              "      <td>1.620000e+12</td>\n",
              "      <td>1.620000e+12</td>\n",
              "      <td>199452.0</td>\n",
              "      <td>1.0</td>\n",
              "      <td>348011.0</td>\n",
              "      <td>348027.0</td>\n",
              "      <td>NaN</td>\n",
              "      <td>NaN</td>\n",
              "      <td>NaN</td>\n",
              "      <td>NaN</td>\n",
              "      <td>NaN</td>\n",
              "      <td>128491</td>\n",
              "      <td>NaN</td>\n",
              "      <td>NaN</td>\n",
              "      <td>NaN</td>\n",
              "      <td>NaN</td>\n",
              "      <td>NaN</td>\n",
              "      <td>NaN</td>\n",
              "      <td>NaN</td>\n",
              "      <td>NaN</td>\n",
              "      <td>NaN</td>\n",
              "      <td>True</td>\n",
              "    </tr>\n",
              "    <tr>\n",
              "      <th>3</th>\n",
              "      <td>75694</td>\n",
              "      <td>f79f3de7-5edb-4319-9549-117f47996066-10wrk</td>\n",
              "      <td>1.620000e+12</td>\n",
              "      <td>0a937239-9091-4bb7-b26b-37d4bb29e50b-10oa0</td>\n",
              "      <td>321300</td>\n",
              "      <td>38.0</td>\n",
              "      <td>8gw,o3b</td>\n",
              "      <td>2.790000</td>\n",
              "      <td>144</td>\n",
              "      <td>XXX.XXX.XXX.XXX</td>\n",
              "      <td>5488088</td>\n",
              "      <td>49504155</td>\n",
              "      <td>1.0</td>\n",
              "      <td>2320</td>\n",
              "      <td>https%3A%2F%2Fwww.timesjobs.com%2Fcandidate%2F...</td>\n",
              "      <td>34</td>\n",
              "      <td>4140.0</td>\n",
              "      <td>6384</td>\n",
              "      <td>1.620000e+12</td>\n",
              "      <td>2</td>\n",
              "      <td>1.0</td>\n",
              "      <td>p1b,7dn,6hs,jyq,35g,h98,oul,nqo,2ws,lo4,p12,2w...</td>\n",
              "      <td>16</td>\n",
              "      <td>196058.0</td>\n",
              "      <td>129639.0</td>\n",
              "      <td>10300.0</td>\n",
              "      <td>1815.0</td>\n",
              "      <td>202038.0</td>\n",
              "      <td>2</td>\n",
              "      <td>264496</td>\n",
              "      <td>136127.0</td>\n",
              "      <td>144.0</td>\n",
              "      <td>10</td>\n",
              "      <td>3144.0</td>\n",
              "      <td>1.620000e+12</td>\n",
              "      <td>1.620000e+12</td>\n",
              "      <td>199452.0</td>\n",
              "      <td>1.0</td>\n",
              "      <td>348011.0</td>\n",
              "      <td>348023.0</td>\n",
              "      <td>NaN</td>\n",
              "      <td>NaN</td>\n",
              "      <td>NaN</td>\n",
              "      <td>NaN</td>\n",
              "      <td>NaN</td>\n",
              "      <td>232,809,333,496</td>\n",
              "      <td>348007.0</td>\n",
              "      <td>NaN</td>\n",
              "      <td>NaN</td>\n",
              "      <td>NaN</td>\n",
              "      <td>NaN</td>\n",
              "      <td>NaN</td>\n",
              "      <td>NaN</td>\n",
              "      <td>NaN</td>\n",
              "      <td>NaN</td>\n",
              "      <td>True</td>\n",
              "    </tr>\n",
              "    <tr>\n",
              "      <th>4</th>\n",
              "      <td>30431</td>\n",
              "      <td>01fd1a8a-c3f8-4b57-94ff-66318d0f63c7-1sjts</td>\n",
              "      <td>1.620000e+12</td>\n",
              "      <td>0d46d0d4-8fc6-4d95-aaa1-406354a8400c-1sjo8</td>\n",
              "      <td>355768</td>\n",
              "      <td>21.0</td>\n",
              "      <td>NaN</td>\n",
              "      <td>NaN</td>\n",
              "      <td>144</td>\n",
              "      <td>XXX.XXX.XXX.XXX</td>\n",
              "      <td>5614054</td>\n",
              "      <td>53607445</td>\n",
              "      <td>1.0</td>\n",
              "      <td>1</td>\n",
              "      <td>NaN</td>\n",
              "      <td>3296</td>\n",
              "      <td>NaN</td>\n",
              "      <td>3370</td>\n",
              "      <td>1.620000e+12</td>\n",
              "      <td>2</td>\n",
              "      <td>1.0</td>\n",
              "      <td>761,75y</td>\n",
              "      <td>17</td>\n",
              "      <td>129311.0</td>\n",
              "      <td>129408.0</td>\n",
              "      <td>0.0</td>\n",
              "      <td>1818.0</td>\n",
              "      <td>0.0</td>\n",
              "      <td>2</td>\n",
              "      <td>264496</td>\n",
              "      <td>136127.0</td>\n",
              "      <td>144.0</td>\n",
              "      <td>10</td>\n",
              "      <td>42597.0</td>\n",
              "      <td>1.620000e+12</td>\n",
              "      <td>1.620000e+12</td>\n",
              "      <td>360833.0</td>\n",
              "      <td>1.0</td>\n",
              "      <td>348011.0</td>\n",
              "      <td>348025.0</td>\n",
              "      <td>NaN</td>\n",
              "      <td>NaN</td>\n",
              "      <td>NaN</td>\n",
              "      <td>NaN</td>\n",
              "      <td>NaN</td>\n",
              "      <td>NaN</td>\n",
              "      <td>NaN</td>\n",
              "      <td>NaN</td>\n",
              "      <td>NaN</td>\n",
              "      <td>1.0</td>\n",
              "      <td>275.0</td>\n",
              "      <td>1.0</td>\n",
              "      <td>NaN</td>\n",
              "      <td>NaN</td>\n",
              "      <td>NaN</td>\n",
              "      <td>True</td>\n",
              "    </tr>\n",
              "  </tbody>\n",
              "</table>\n",
              "</div>"
            ],
            "text/plain": [
              "   clientid_cr  ... conversion_fraud\n",
              "0        75694  ...             True\n",
              "1        75694  ...             True\n",
              "2        75694  ...             True\n",
              "3        75694  ...             True\n",
              "4        30431  ...             True\n",
              "\n",
              "[5 rows x 56 columns]"
            ]
          },
          "metadata": {
            "tags": []
          },
          "execution_count": 7
        }
      ]
    },
    {
      "cell_type": "code",
      "metadata": {
        "colab": {
          "base_uri": "https://localhost:8080/"
        },
        "id": "vVAHZN_Hq0D0",
        "outputId": "2d52605a-d213-482a-90e9-7ba7beaf69b1"
      },
      "source": [
        "print(train_df.shape,test_df.shape)\n",
        "test_df.info()"
      ],
      "execution_count": null,
      "outputs": [
        {
          "output_type": "stream",
          "text": [
            "(961, 56) (455, 56)\n",
            "<class 'pandas.core.frame.DataFrame'>\n",
            "RangeIndex: 455 entries, 0 to 454\n",
            "Data columns (total 56 columns):\n",
            " #   Column                         Non-Null Count  Dtype  \n",
            "---  ------                         --------------  -----  \n",
            " 0   record_id                      455 non-null    int64  \n",
            " 1   clientid_cr                    455 non-null    int64  \n",
            " 2   clmbuserid_cr                  455 non-null    object \n",
            " 3   conversiontime_cr              455 non-null    int64  \n",
            " 4   imprid_cr                      455 non-null    object \n",
            " 5   adslotdimid_cr                 455 non-null    int64  \n",
            " 6   algo_cr                        455 non-null    int64  \n",
            " 7   audiences_cr                   369 non-null    object \n",
            " 8   clickbid_cr                    305 non-null    float64\n",
            " 9   geodimid_cr                    455 non-null    int64  \n",
            " 10  ip_cr                          455 non-null    object \n",
            " 11  itemcolumbiaid_cr              455 non-null    int64  \n",
            " 12  itemid_cr                      455 non-null    int64  \n",
            " 13  position_cr                    455 non-null    int64  \n",
            " 14  pubclientid_cr                 455 non-null    int64  \n",
            " 15  refurl_cr                      408 non-null    object \n",
            " 16  siteId_cr                      455 non-null    int64  \n",
            " 17  templateid_cr                  414 non-null    float64\n",
            " 18  goalid_cr                      455 non-null    int64  \n",
            " 19  time_cr                        455 non-null    int64  \n",
            " 20  adLogType_cr                   455 non-null    int64  \n",
            " 21  v_cr                           455 non-null    int64  \n",
            " 22  allAudiences_cr                432 non-null    object \n",
            " 23  pricingtype_cr                 455 non-null    int64  \n",
            " 24  osId_cr                        455 non-null    int64  \n",
            " 25  browserId_cr                   455 non-null    int64  \n",
            " 26  cityId_cr                      455 non-null    int64  \n",
            " 27  stateId_cr                     455 non-null    int64  \n",
            " 28  modelDimId_cr                  455 non-null    int64  \n",
            " 29  lookUpFrom_cr                  455 non-null    int64  \n",
            " 30  connTypeDimId_cr               455 non-null    int64  \n",
            " 31  ispDimId_cr                    455 non-null    int64  \n",
            " 32  countryDimId_cr                455 non-null    int64  \n",
            " 33  goalTypeId_cr                  455 non-null    int64  \n",
            " 34  conversionDurationInMillis_cr  455 non-null    int64  \n",
            " 35  impressionTimeInMillis_cr      455 non-null    int64  \n",
            " 36  clickTimeInMillis_cr           379 non-null    float64\n",
            " 37  osVerDimId_cr                  455 non-null    int64  \n",
            " 38  uuidSource_cr                  455 non-null    int64  \n",
            " 39  geoGrpDimId_cr                 455 non-null    int64  \n",
            " 40  stateGrpDimId_cr               413 non-null    float64\n",
            " 41  deviceId_cr                    76 non-null     float64\n",
            " 42  uvh_cr                         0 non-null      float64\n",
            " 43  uv_cr                          18 non-null     float64\n",
            " 44  platformId_cr                  76 non-null     float64\n",
            " 45  sdkVersion_cr                  5 non-null      object \n",
            " 46  usrClusterId_cr                163 non-null    float64\n",
            " 47  cityGrpDimId_cr                302 non-null    float64\n",
            " 48  siteClusterIds_cr              205 non-null    float64\n",
            " 49  refClusterId_cr                35 non-null     float64\n",
            " 50  paid_cr                        77 non-null     float64\n",
            " 51  spend_cr                       77 non-null     float64\n",
            " 52  attributionType_cr             77 non-null     float64\n",
            " 53  conversionid_cr                1 non-null      object \n",
            " 54  optimize_on_cr                 18 non-null     object \n",
            " 55  bundleId_cr                    2 non-null      float64\n",
            "dtypes: float64(16), int64(31), object(9)\n",
            "memory usage: 199.2+ KB\n"
          ],
          "name": "stdout"
        }
      ]
    },
    {
      "cell_type": "code",
      "metadata": {
        "colab": {
          "base_uri": "https://localhost:8080/"
        },
        "id": "tKCflobdsmQW",
        "outputId": "168beb5c-e293-485c-a97b-b55c75987a16"
      },
      "source": [
        "train_df.info()"
      ],
      "execution_count": null,
      "outputs": [
        {
          "output_type": "stream",
          "text": [
            "<class 'pandas.core.frame.DataFrame'>\n",
            "Int64Index: 961 entries, 0 to 964\n",
            "Data columns (total 56 columns):\n",
            " #   Column                         Non-Null Count  Dtype  \n",
            "---  ------                         --------------  -----  \n",
            " 0   clientid_cr                    961 non-null    int64  \n",
            " 1   clmbuserid_cr                  961 non-null    object \n",
            " 2   conversiontime_cr              961 non-null    float64\n",
            " 3   imprid_cr                      961 non-null    object \n",
            " 4   adslotdimid_cr                 961 non-null    int64  \n",
            " 5   algo_cr                        945 non-null    float64\n",
            " 6   audiences_cr                   766 non-null    object \n",
            " 7   clickbid_cr                    669 non-null    float64\n",
            " 8   geodimid_cr                    961 non-null    int64  \n",
            " 9   ip_cr                          945 non-null    object \n",
            " 10  itemcolumbiaid_cr              961 non-null    int64  \n",
            " 11  itemid_cr                      961 non-null    int64  \n",
            " 12  position_cr                    945 non-null    float64\n",
            " 13  pubclientid_cr                 961 non-null    int64  \n",
            " 14  refurl_cr                      840 non-null    object \n",
            " 15  siteId_cr                      961 non-null    int64  \n",
            " 16  templateid_cr                  858 non-null    float64\n",
            " 17  goalid_cr                      961 non-null    int64  \n",
            " 18  time_cr                        961 non-null    float64\n",
            " 19  adLogType_cr                   961 non-null    int64  \n",
            " 20  v_cr                           960 non-null    float64\n",
            " 21  allAudiences_cr                914 non-null    object \n",
            " 22  pricingtype_cr                 961 non-null    int64  \n",
            " 23  osId_cr                        944 non-null    float64\n",
            " 24  browserId_cr                   944 non-null    float64\n",
            " 25  cityId_cr                      945 non-null    float64\n",
            " 26  stateId_cr                     945 non-null    float64\n",
            " 27  modelDimId_cr                  944 non-null    float64\n",
            " 28  lookUpFrom_cr                  961 non-null    int64  \n",
            " 29  connTypeDimId_cr               945 non-null    object \n",
            " 30  ispDimId_cr                    945 non-null    float64\n",
            " 31  countryDimId_cr                945 non-null    float64\n",
            " 32  goalTypeId_cr                  961 non-null    int64  \n",
            " 33  conversionDurationInMillis_cr  945 non-null    float64\n",
            " 34  impressionTimeInMillis_cr      945 non-null    float64\n",
            " 35  clickTimeInMillis_cr           833 non-null    float64\n",
            " 36  osVerDimId_cr                  944 non-null    float64\n",
            " 37  uuidSource_cr                  945 non-null    float64\n",
            " 38  geoGrpDimId_cr                 945 non-null    float64\n",
            " 39  stateGrpDimId_cr               860 non-null    float64\n",
            " 40  deviceId_cr                    111 non-null    float64\n",
            " 41  uvh_cr                         0 non-null      float64\n",
            " 42  uv_cr                          29 non-null     float64\n",
            " 43  platformId_cr                  112 non-null    float64\n",
            " 44  sdkVersion_cr                  7 non-null      object \n",
            " 45  usrClusterId_cr                354 non-null    object \n",
            " 46  cityGrpDimId_cr                621 non-null    float64\n",
            " 47  siteClusterIds_cr              412 non-null    object \n",
            " 48  refClusterId_cr                66 non-null     float64\n",
            " 49  paid_cr                        190 non-null    float64\n",
            " 50  spend_cr                       190 non-null    float64\n",
            " 51  attributionType_cr             190 non-null    float64\n",
            " 52  conversionid_cr                20 non-null     object \n",
            " 53  optimize_on_cr                 40 non-null     object \n",
            " 54  bundleId_cr                    5 non-null      float64\n",
            " 55  conversion_fraud               961 non-null    bool   \n",
            "dtypes: bool(1), float64(31), int64(12), object(12)\n",
            "memory usage: 421.4+ KB\n"
          ],
          "name": "stdout"
        }
      ]
    },
    {
      "cell_type": "code",
      "metadata": {
        "id": "v6nx-k-Tt05N"
      },
      "source": [
        "target = train_df[\"conversion_fraud\"]"
      ],
      "execution_count": null,
      "outputs": []
    },
    {
      "cell_type": "code",
      "metadata": {
        "id": "5F7jlgU9_U5j"
      },
      "source": [
        "df = pd.concat([train_df,test_df])"
      ],
      "execution_count": null,
      "outputs": []
    },
    {
      "cell_type": "code",
      "metadata": {
        "colab": {
          "base_uri": "https://localhost:8080/"
        },
        "id": "kXH1uX23rcVd",
        "outputId": "5d3e0ad1-a723-43d0-9c93-d869fed2be7b"
      },
      "source": [
        "df.shape"
      ],
      "execution_count": null,
      "outputs": [
        {
          "output_type": "execute_result",
          "data": {
            "text/plain": [
              "(1416, 57)"
            ]
          },
          "metadata": {
            "tags": []
          },
          "execution_count": 11
        }
      ]
    },
    {
      "cell_type": "code",
      "metadata": {
        "colab": {
          "base_uri": "https://localhost:8080/"
        },
        "id": "OsF84rNcV6G-",
        "outputId": "e2179c8f-9a00-478b-fc4b-090c75676ba8"
      },
      "source": [
        "df.info()"
      ],
      "execution_count": null,
      "outputs": [
        {
          "output_type": "stream",
          "text": [
            "<class 'pandas.core.frame.DataFrame'>\n",
            "Int64Index: 1416 entries, 0 to 454\n",
            "Data columns (total 57 columns):\n",
            " #   Column                         Non-Null Count  Dtype  \n",
            "---  ------                         --------------  -----  \n",
            " 0   clientid_cr                    1416 non-null   int64  \n",
            " 1   clmbuserid_cr                  1416 non-null   object \n",
            " 2   conversiontime_cr              1416 non-null   float64\n",
            " 3   imprid_cr                      1416 non-null   object \n",
            " 4   adslotdimid_cr                 1416 non-null   int64  \n",
            " 5   algo_cr                        1400 non-null   float64\n",
            " 6   audiences_cr                   1135 non-null   object \n",
            " 7   clickbid_cr                    974 non-null    float64\n",
            " 8   geodimid_cr                    1416 non-null   int64  \n",
            " 9   ip_cr                          1400 non-null   object \n",
            " 10  itemcolumbiaid_cr              1416 non-null   int64  \n",
            " 11  itemid_cr                      1416 non-null   int64  \n",
            " 12  position_cr                    1400 non-null   float64\n",
            " 13  pubclientid_cr                 1416 non-null   int64  \n",
            " 14  refurl_cr                      1248 non-null   object \n",
            " 15  siteId_cr                      1416 non-null   int64  \n",
            " 16  templateid_cr                  1272 non-null   float64\n",
            " 17  goalid_cr                      1416 non-null   int64  \n",
            " 18  time_cr                        1416 non-null   float64\n",
            " 19  adLogType_cr                   1416 non-null   int64  \n",
            " 20  v_cr                           1415 non-null   float64\n",
            " 21  allAudiences_cr                1346 non-null   object \n",
            " 22  pricingtype_cr                 1416 non-null   int64  \n",
            " 23  osId_cr                        1399 non-null   float64\n",
            " 24  browserId_cr                   1399 non-null   float64\n",
            " 25  cityId_cr                      1400 non-null   float64\n",
            " 26  stateId_cr                     1400 non-null   float64\n",
            " 27  modelDimId_cr                  1399 non-null   float64\n",
            " 28  lookUpFrom_cr                  1416 non-null   int64  \n",
            " 29  connTypeDimId_cr               1400 non-null   object \n",
            " 30  ispDimId_cr                    1400 non-null   float64\n",
            " 31  countryDimId_cr                1400 non-null   float64\n",
            " 32  goalTypeId_cr                  1416 non-null   int64  \n",
            " 33  conversionDurationInMillis_cr  1400 non-null   float64\n",
            " 34  impressionTimeInMillis_cr      1400 non-null   float64\n",
            " 35  clickTimeInMillis_cr           1212 non-null   float64\n",
            " 36  osVerDimId_cr                  1399 non-null   float64\n",
            " 37  uuidSource_cr                  1400 non-null   float64\n",
            " 38  geoGrpDimId_cr                 1400 non-null   float64\n",
            " 39  stateGrpDimId_cr               1273 non-null   float64\n",
            " 40  deviceId_cr                    187 non-null    float64\n",
            " 41  uvh_cr                         0 non-null      float64\n",
            " 42  uv_cr                          47 non-null     float64\n",
            " 43  platformId_cr                  188 non-null    float64\n",
            " 44  sdkVersion_cr                  12 non-null     object \n",
            " 45  usrClusterId_cr                517 non-null    object \n",
            " 46  cityGrpDimId_cr                923 non-null    float64\n",
            " 47  siteClusterIds_cr              617 non-null    object \n",
            " 48  refClusterId_cr                101 non-null    float64\n",
            " 49  paid_cr                        267 non-null    float64\n",
            " 50  spend_cr                       267 non-null    float64\n",
            " 51  attributionType_cr             267 non-null    float64\n",
            " 52  conversionid_cr                21 non-null     object \n",
            " 53  optimize_on_cr                 58 non-null     object \n",
            " 54  bundleId_cr                    7 non-null      float64\n",
            " 55  conversion_fraud               961 non-null    object \n",
            " 56  record_id                      455 non-null    float64\n",
            "dtypes: float64(32), int64(12), object(13)\n",
            "memory usage: 641.6+ KB\n"
          ],
          "name": "stdout"
        }
      ]
    },
    {
      "cell_type": "code",
      "metadata": {
        "id": "h4QX2gVyIe3h"
      },
      "source": [
        "joined_df = pd.merge_ordered(df,click_logs,how='left',left_on=[\"imprid_cr\"],right_on=['imprId'])"
      ],
      "execution_count": null,
      "outputs": []
    },
    {
      "cell_type": "code",
      "metadata": {
        "colab": {
          "base_uri": "https://localhost:8080/"
        },
        "id": "jxxk741nOfBJ",
        "outputId": "02bfb017-2e44-4785-904c-ee2ed270a351"
      },
      "source": [
        "len(np.unique(joined_df[joined_df['record_id'].notnull()]['record_id']))"
      ],
      "execution_count": null,
      "outputs": [
        {
          "output_type": "execute_result",
          "data": {
            "text/plain": [
              "455"
            ]
          },
          "metadata": {
            "tags": []
          },
          "execution_count": 25
        }
      ]
    },
    {
      "cell_type": "code",
      "metadata": {
        "id": "f6RffSm5RvOS"
      },
      "source": [
        ""
      ],
      "execution_count": null,
      "outputs": []
    },
    {
      "cell_type": "code",
      "metadata": {
        "colab": {
          "base_uri": "https://localhost:8080/"
        },
        "id": "9KGhOlBHJ8oO",
        "outputId": "3a158bf4-3468-4256-872a-f71cc01873ee"
      },
      "source": [
        "columns_train = [joined_df.columns[i] for i in [0,13,1,3,15,17,25,26,31,24,4,33,34,30,36,55,56]]\n",
        "print(columns_train)"
      ],
      "execution_count": null,
      "outputs": [
        {
          "output_type": "stream",
          "text": [
            "['clientid_cr', 'pubclientid_cr', 'clmbuserid_cr', 'imprid_cr', 'siteId_cr', 'goalid_cr', 'cityId_cr', 'stateId_cr', 'countryDimId_cr', 'browserId_cr', 'adslotdimid_cr', 'conversionDurationInMillis_cr', 'impressionTimeInMillis_cr', 'ispDimId_cr', 'osVerDimId_cr', 'conversion_fraud', 'record_id']\n"
          ],
          "name": "stdout"
        }
      ]
    },
    {
      "cell_type": "code",
      "metadata": {
        "id": "XYA-rM-rKSBm"
      },
      "source": [
        "columns_train.append(\"ip\")\n",
        "columns_train.append(\"advClientId\")\n",
        "columns_train.append(\"devTypeDimId\")\n"
      ],
      "execution_count": null,
      "outputs": []
    },
    {
      "cell_type": "code",
      "metadata": {
        "colab": {
          "base_uri": "https://localhost:8080/"
        },
        "id": "nqESk1lnatoV",
        "outputId": "1c6900c1-1652-45bd-d36b-d71bf467ff14"
      },
      "source": [
        "print(columns_train)"
      ],
      "execution_count": null,
      "outputs": [
        {
          "output_type": "stream",
          "text": [
            "['clientid_cr', 'pubclientid_cr', 'clmbuserid_cr', 'imprid_cr', 'siteId_cr', 'goalid_cr', 'cityId_cr', 'stateId_cr', 'countryDimId_cr', 'browserId_cr', 'adslotdimid_cr', 'conversionDurationInMillis_cr', 'impressionTimeInMillis_cr', 'ispDimId_cr', 'osVerDimId_cr', 'conversion_fraud', 'record_id', 'ip', 'advClientId', 'devTypeDimId']\n"
          ],
          "name": "stdout"
        }
      ]
    },
    {
      "cell_type": "code",
      "metadata": {
        "colab": {
          "base_uri": "https://localhost:8080/"
        },
        "id": "71c7yOouPXDd",
        "outputId": "0b64c7a4-61d0-4ea5-97f5-1c9a81dc2631"
      },
      "source": [
        "click_logs.info()"
      ],
      "execution_count": null,
      "outputs": [
        {
          "output_type": "stream",
          "text": [
            "<class 'pandas.core.frame.DataFrame'>\n",
            "RangeIndex: 244864 entries, 0 to 244863\n",
            "Data columns (total 55 columns):\n",
            " #   Column                     Non-Null Count   Dtype  \n",
            "---  ------                     --------------   -----  \n",
            " 0   Unnamed: 0                 244864 non-null  int64  \n",
            " 1   imprId                     244864 non-null  object \n",
            " 2   clmbUserId                 244864 non-null  object \n",
            " 3   adSltDimId                 244864 non-null  int64  \n",
            " 4   auds                       181829 non-null  object \n",
            " 5   allAuds                    231529 non-null  object \n",
            " 6   itemid                     244864 non-null  int64  \n",
            " 7   algo                       244864 non-null  int64  \n",
            " 8   advClientId                244864 non-null  int64  \n",
            " 9   pubClientId                244864 non-null  int64  \n",
            " 10  itmClmbLId                 244864 non-null  int64  \n",
            " 11  tmpltId                    222565 non-null  float64\n",
            " 12  refUrl                     198414 non-null  object \n",
            " 13  clickBid                   141858 non-null  float64\n",
            " 14  clickXForwardedFor         222565 non-null  object \n",
            " 15  position                   244864 non-null  int64  \n",
            " 16  paid                       244864 non-null  int64  \n",
            " 17  siteId                     244864 non-null  int64  \n",
            " 18  callIdentifier             243724 non-null  object \n",
            " 19  crtd                       244864 non-null  float64\n",
            " 20  adslotRatio                215197 non-null  float64\n",
            " 21  pricingType                222565 non-null  float64\n",
            " 22  usrClusterId               160584 non-null  object \n",
            " 23  siteClusterIds             188144 non-null  object \n",
            " 24  ctxCatId                   226457 non-null  object \n",
            " 25  uuidSource                 236752 non-null  object \n",
            " 26  clickIp                    222565 non-null  object \n",
            " 27  clickGeoId                 222565 non-null  float64\n",
            " 28  esi                        163350 non-null  float64\n",
            " 29  adBlockerDetectionValueId  136152 non-null  object \n",
            " 30  bundleId                   100865 non-null  object \n",
            " 31  impressionServedTimeStamp  156760 non-null  object \n",
            " 32  appver                     126985 non-null  object \n",
            " 33  topic                      244864 non-null  object \n",
            " 34  ip                         244864 non-null  object \n",
            " 35  geoDimId                   244864 non-null  int64  \n",
            " 36  countryDimId               244864 non-null  int64  \n",
            " 37  geoGrpDimId                233484 non-null  float64\n",
            " 38  cityDimId                  238775 non-null  float64\n",
            " 39  cityGrpDimId               210261 non-null  float64\n",
            " 40  stateDimId                 242115 non-null  float64\n",
            " 41  stateGrpDimId              234919 non-null  float64\n",
            " 42  ispDimId                   244732 non-null  float64\n",
            " 43  osDimId                    244643 non-null  float64\n",
            " 44  osVerDimId                 244619 non-null  float64\n",
            " 45  devTypeDimId               229508 non-null  float64\n",
            " 46  vendorDimId                238984 non-null  object \n",
            " 47  modelDimId                 222249 non-null  object \n",
            " 48  connTypeDimId              184365 non-null  object \n",
            " 49  browserDimId               164599 non-null  object \n",
            " 50  refClusterId               56251 non-null   object \n",
            " 51  fraud                      20687 non-null   object \n",
            " 52  cpa                        53476 non-null   object \n",
            " 53  imprUserId                 51007 non-null   object \n",
            " 54  optout                     20318 non-null   object \n",
            "dtypes: float64(16), int64(12), object(27)\n",
            "memory usage: 102.7+ MB\n"
          ],
          "name": "stdout"
        }
      ]
    },
    {
      "cell_type": "code",
      "metadata": {
        "id": "LZ7xbXNaAQf2"
      },
      "source": [
        "df_new = joined_df[columns_train]"
      ],
      "execution_count": null,
      "outputs": []
    },
    {
      "cell_type": "code",
      "metadata": {
        "id": "AxDAj8F6RYyZ",
        "colab": {
          "base_uri": "https://localhost:8080/"
        },
        "outputId": "e0bae638-3275-4ab3-fb61-802bd5daff3f"
      },
      "source": [
        "df_new.columns\n"
      ],
      "execution_count": null,
      "outputs": [
        {
          "output_type": "execute_result",
          "data": {
            "text/plain": [
              "Index(['clientid_cr', 'pubclientid_cr', 'clmbuserid_cr', 'imprid_cr',\n",
              "       'siteId_cr', 'goalid_cr', 'cityId_cr', 'stateId_cr', 'countryDimId_cr',\n",
              "       'browserId_cr', 'adslotdimid_cr', 'conversionDurationInMillis_cr',\n",
              "       'impressionTimeInMillis_cr', 'ispDimId_cr', 'osVerDimId_cr',\n",
              "       'conversion_fraud', 'record_id', 'ip', 'advClientId', 'devTypeDimId'],\n",
              "      dtype='object')"
            ]
          },
          "metadata": {
            "tags": []
          },
          "execution_count": 74
        }
      ]
    },
    {
      "cell_type": "code",
      "metadata": {
        "colab": {
          "base_uri": "https://localhost:8080/"
        },
        "id": "_SVwI7UUW_Tc",
        "outputId": "0fcd1971-5bb1-4c30-ebb0-5dcd3cfe63f5"
      },
      "source": [
        "df_new.info()"
      ],
      "execution_count": null,
      "outputs": [
        {
          "output_type": "stream",
          "text": [
            "<class 'pandas.core.frame.DataFrame'>\n",
            "Int64Index: 1531 entries, 0 to 1530\n",
            "Data columns (total 20 columns):\n",
            " #   Column                         Non-Null Count  Dtype  \n",
            "---  ------                         --------------  -----  \n",
            " 0   clientid_cr                    1531 non-null   int64  \n",
            " 1   pubclientid_cr                 1531 non-null   int64  \n",
            " 2   clmbuserid_cr                  1531 non-null   object \n",
            " 3   imprid_cr                      1531 non-null   object \n",
            " 4   siteId_cr                      1531 non-null   int64  \n",
            " 5   goalid_cr                      1531 non-null   int64  \n",
            " 6   cityId_cr                      1515 non-null   float64\n",
            " 7   stateId_cr                     1515 non-null   float64\n",
            " 8   countryDimId_cr                1515 non-null   float64\n",
            " 9   browserId_cr                   1514 non-null   float64\n",
            " 10  adslotdimid_cr                 1531 non-null   int64  \n",
            " 11  conversionDurationInMillis_cr  1515 non-null   float64\n",
            " 12  impressionTimeInMillis_cr      1515 non-null   float64\n",
            " 13  ispDimId_cr                    1515 non-null   float64\n",
            " 14  osVerDimId_cr                  1514 non-null   float64\n",
            " 15  conversion_fraud               1042 non-null   object \n",
            " 16  record_id                      489 non-null    float64\n",
            " 17  ip                             1303 non-null   object \n",
            " 18  advClientId                    1303 non-null   float64\n",
            " 19  devTypeDimId                   1207 non-null   float64\n",
            "dtypes: float64(11), int64(5), object(4)\n",
            "memory usage: 291.2+ KB\n"
          ],
          "name": "stdout"
        }
      ]
    },
    {
      "cell_type": "code",
      "metadata": {
        "id": "TK3yB9eOXEYO"
      },
      "source": [
        "null_cols_to_encode = [\"cityId_cr\"  ,\"stateId_cr\" ,\"countryDimId_cr\",\"browserId_cr\",\"ispDimId_cr\",\"osVerDimId_cr\",\"ip\",\"advClientId\",\"devTypeDimId\"]"
      ],
      "execution_count": null,
      "outputs": []
    },
    {
      "cell_type": "code",
      "metadata": {
        "colab": {
          "base_uri": "https://localhost:8080/"
        },
        "id": "SKiCPM9bcqvW",
        "outputId": "4f7ab666-9cdf-459a-998d-b5e7b0d194f8"
      },
      "source": [
        "for col in null_cols_to_encode:\n",
        "  dt =  df_new[col].dtype\n",
        "  if dt == 'float64':\n",
        "    df_new[col].fillna(-1,inplace=True)\n",
        "  elif dt == 'object':\n",
        "    df_new[col].fillna(\"Nan\",inplace=True)"
      ],
      "execution_count": null,
      "outputs": [
        {
          "output_type": "stream",
          "text": [
            "/usr/local/lib/python3.7/dist-packages/pandas/core/series.py:4536: SettingWithCopyWarning: \n",
            "A value is trying to be set on a copy of a slice from a DataFrame\n",
            "\n",
            "See the caveats in the documentation: https://pandas.pydata.org/pandas-docs/stable/user_guide/indexing.html#returning-a-view-versus-a-copy\n",
            "  downcast=downcast,\n"
          ],
          "name": "stderr"
        }
      ]
    },
    {
      "cell_type": "code",
      "metadata": {
        "colab": {
          "base_uri": "https://localhost:8080/"
        },
        "id": "1yATfkXuvmV7",
        "outputId": "a3b5d006-22d3-488c-ceca-b4da580114cd"
      },
      "source": [
        "df_new = pd.read_csv(\"./train.csv\")\n",
        "df_new.info()"
      ],
      "execution_count": 13,
      "outputs": [
        {
          "output_type": "stream",
          "text": [
            "<class 'pandas.core.frame.DataFrame'>\n",
            "RangeIndex: 1531 entries, 0 to 1530\n",
            "Data columns (total 21 columns):\n",
            " #   Column                         Non-Null Count  Dtype  \n",
            "---  ------                         --------------  -----  \n",
            " 0   Unnamed: 0                     1531 non-null   int64  \n",
            " 1   clientid_cr                    1531 non-null   int64  \n",
            " 2   pubclientid_cr                 1531 non-null   int64  \n",
            " 3   clmbuserid_cr                  1531 non-null   object \n",
            " 4   imprid_cr                      1531 non-null   object \n",
            " 5   siteId_cr                      1531 non-null   int64  \n",
            " 6   goalid_cr                      1531 non-null   int64  \n",
            " 7   cityId_cr                      1531 non-null   float64\n",
            " 8   stateId_cr                     1531 non-null   float64\n",
            " 9   countryDimId_cr                1531 non-null   float64\n",
            " 10  browserId_cr                   1531 non-null   float64\n",
            " 11  adslotdimid_cr                 1531 non-null   int64  \n",
            " 12  conversionDurationInMillis_cr  1515 non-null   float64\n",
            " 13  impressionTimeInMillis_cr      1515 non-null   float64\n",
            " 14  ispDimId_cr                    1531 non-null   float64\n",
            " 15  osVerDimId_cr                  1531 non-null   float64\n",
            " 16  conversion_fraud               1042 non-null   object \n",
            " 17  record_id                      489 non-null    float64\n",
            " 18  ip                             1531 non-null   object \n",
            " 19  advClientId                    1531 non-null   float64\n",
            " 20  devTypeDimId                   1531 non-null   float64\n",
            "dtypes: float64(11), int64(6), object(4)\n",
            "memory usage: 251.3+ KB\n"
          ],
          "name": "stdout"
        }
      ]
    },
    {
      "cell_type": "code",
      "metadata": {
        "id": "nLsZEDGEeKcW"
      },
      "source": [
        "df_new['conversionDurationInMillis_cr'].fillna(df_new['conversionDurationInMillis_cr'].quantile(0.6),inplace=True)\n",
        "df_new['impressionTimeInMillis_cr'].fillna(df_new['impressionTimeInMillis_cr'].quantile(0.6),inplace=True)"
      ],
      "execution_count": 14,
      "outputs": []
    },
    {
      "cell_type": "code",
      "metadata": {
        "id": "5Jqbepu0fwz_"
      },
      "source": [
        "norm_cdm = (df_new['conversionDurationInMillis_cr'] - df_new['conversionDurationInMillis_cr'].mean())/  df_new['conversionDurationInMillis_cr'].std()\n",
        "norm_itm = (df_new['impressionTimeInMillis_cr'] - df_new['impressionTimeInMillis_cr'].mean())/  df_new['impressionTimeInMillis_cr'].std()"
      ],
      "execution_count": 15,
      "outputs": []
    },
    {
      "cell_type": "code",
      "metadata": {
        "id": "Vgpm6zGgeQUr"
      },
      "source": [
        "df_new['conversionDurationInMillis_cr'] = norm_cdm\n",
        "df_new['impressionTimeInMillis_cr'] = norm_itm"
      ],
      "execution_count": 16,
      "outputs": []
    },
    {
      "cell_type": "code",
      "metadata": {
        "colab": {
          "base_uri": "https://localhost:8080/"
        },
        "id": "d-4yY_SWvGXM",
        "outputId": "ec85f862-a4b5-4d12-b0cc-1540b1dd55c4"
      },
      "source": [
        "df_new['conversionDurationInMillis_cr']"
      ],
      "execution_count": 17,
      "outputs": [
        {
          "output_type": "execute_result",
          "data": {
            "text/plain": [
              "0      -0.110122\n",
              "1      -0.110120\n",
              "2      -0.110101\n",
              "3      -0.110120\n",
              "4      -0.109799\n",
              "          ...   \n",
              "1526   -0.110103\n",
              "1527   -0.109084\n",
              "1528   -0.110125\n",
              "1529   -0.109808\n",
              "1530   -0.110121\n",
              "Name: conversionDurationInMillis_cr, Length: 1531, dtype: float64"
            ]
          },
          "metadata": {
            "tags": []
          },
          "execution_count": 17
        }
      ]
    },
    {
      "cell_type": "code",
      "metadata": {
        "colab": {
          "base_uri": "https://localhost:8080/"
        },
        "id": "MDEex7hPjDqC",
        "outputId": "a51b633b-4a60-4f1f-8e6d-e68438d720d5"
      },
      "source": [
        "ohe.fit_transform(df_new.astype({\"clmbuserid_cr\":'string',\"imprid_cr\":'string',\"ip\":\"string\"})[columns_to_encode])"
      ],
      "execution_count": null,
      "outputs": [
        {
          "output_type": "execute_result",
          "data": {
            "text/plain": [
              "<1531x3907 sparse matrix of type '<class 'numpy.float64'>'\n",
              "\twith 24496 stored elements in Compressed Sparse Row format>"
            ]
          },
          "metadata": {
            "tags": []
          },
          "execution_count": 113
        }
      ]
    },
    {
      "cell_type": "code",
      "metadata": {
        "id": "ECk6_BZ1lSwQ"
      },
      "source": [
        "df_new = df_new.astype({\"clmbuserid_cr\":'string',\"imprid_cr\":'string',\"ip\":\"string\"})"
      ],
      "execution_count": 21,
      "outputs": []
    },
    {
      "cell_type": "code",
      "metadata": {
        "colab": {
          "base_uri": "https://localhost:8080/"
        },
        "id": "SeAjsnKrugaV",
        "outputId": "21cb7943-92fa-40c3-dcba-7a175c579b99"
      },
      "source": [
        "df_new.info()"
      ],
      "execution_count": 22,
      "outputs": [
        {
          "output_type": "stream",
          "text": [
            "<class 'pandas.core.frame.DataFrame'>\n",
            "RangeIndex: 1531 entries, 0 to 1530\n",
            "Data columns (total 21 columns):\n",
            " #   Column                         Non-Null Count  Dtype  \n",
            "---  ------                         --------------  -----  \n",
            " 0   Unnamed: 0                     1531 non-null   int64  \n",
            " 1   clientid_cr                    1531 non-null   int64  \n",
            " 2   pubclientid_cr                 1531 non-null   int64  \n",
            " 3   clmbuserid_cr                  1531 non-null   string \n",
            " 4   imprid_cr                      1531 non-null   string \n",
            " 5   siteId_cr                      1531 non-null   int64  \n",
            " 6   goalid_cr                      1531 non-null   int64  \n",
            " 7   cityId_cr                      1531 non-null   float64\n",
            " 8   stateId_cr                     1531 non-null   float64\n",
            " 9   countryDimId_cr                1531 non-null   float64\n",
            " 10  browserId_cr                   1531 non-null   float64\n",
            " 11  adslotdimid_cr                 1531 non-null   int64  \n",
            " 12  conversionDurationInMillis_cr  1531 non-null   float64\n",
            " 13  impressionTimeInMillis_cr      1531 non-null   float64\n",
            " 14  ispDimId_cr                    1531 non-null   float64\n",
            " 15  osVerDimId_cr                  1531 non-null   float64\n",
            " 16  conversion_fraud               1042 non-null   object \n",
            " 17  record_id                      489 non-null    float64\n",
            " 18  ip                             1531 non-null   string \n",
            " 19  advClientId                    1531 non-null   float64\n",
            " 20  devTypeDimId                   1531 non-null   float64\n",
            "dtypes: float64(11), int64(6), object(1), string(3)\n",
            "memory usage: 251.3+ KB\n"
          ],
          "name": "stdout"
        }
      ]
    },
    {
      "cell_type": "code",
      "metadata": {
        "id": "CTjkr5Meuybh"
      },
      "source": [
        "columns_to_encode = ['clientid_cr','pubclientid_cr', 'clmbuserid_cr', 'imprid_cr',\n",
        "       'siteId_cr', 'goalid_cr', 'cityId_cr', 'stateId_cr', 'countryDimId_cr',\n",
        "       'browserId_cr', 'adslotdimid_cr','ispDimId_cr', 'osVerDimId_cr',\n",
        "       'ip', 'advClientId','devTypeDimId']"
      ],
      "execution_count": 23,
      "outputs": []
    },
    {
      "cell_type": "code",
      "metadata": {
        "colab": {
          "base_uri": "https://localhost:8080/"
        },
        "id": "7xxE3SJVdOGD",
        "outputId": "919576a6-1fe7-4deb-df57-a65a39744a12"
      },
      "source": [
        "df_new.info()"
      ],
      "execution_count": null,
      "outputs": [
        {
          "output_type": "stream",
          "text": [
            "<class 'pandas.core.frame.DataFrame'>\n",
            "Int64Index: 1531 entries, 0 to 1530\n",
            "Data columns (total 20 columns):\n",
            " #   Column                         Non-Null Count  Dtype  \n",
            "---  ------                         --------------  -----  \n",
            " 0   clientid_cr                    1531 non-null   int64  \n",
            " 1   pubclientid_cr                 1531 non-null   int64  \n",
            " 2   clmbuserid_cr                  1531 non-null   string \n",
            " 3   imprid_cr                      1531 non-null   string \n",
            " 4   siteId_cr                      1531 non-null   int64  \n",
            " 5   goalid_cr                      1531 non-null   int64  \n",
            " 6   cityId_cr                      1531 non-null   float64\n",
            " 7   stateId_cr                     1531 non-null   float64\n",
            " 8   countryDimId_cr                1531 non-null   float64\n",
            " 9   browserId_cr                   1531 non-null   float64\n",
            " 10  adslotdimid_cr                 1531 non-null   int64  \n",
            " 11  conversionDurationInMillis_cr  1531 non-null   float64\n",
            " 12  impressionTimeInMillis_cr      1531 non-null   float64\n",
            " 13  ispDimId_cr                    1531 non-null   float64\n",
            " 14  osVerDimId_cr                  1531 non-null   float64\n",
            " 15  conversion_fraud               1042 non-null   object \n",
            " 16  record_id                      489 non-null    float64\n",
            " 17  ip                             1531 non-null   string \n",
            " 18  advClientId                    1531 non-null   float64\n",
            " 19  devTypeDimId                   1531 non-null   float64\n",
            "dtypes: float64(11), int64(5), object(1), string(3)\n",
            "memory usage: 291.2+ KB\n"
          ],
          "name": "stdout"
        }
      ]
    },
    {
      "cell_type": "code",
      "metadata": {
        "id": "C5omJyAMFgD3"
      },
      "source": [
        "dataFrame = pd.get_dummies(df_new,columns=columns_to_encode)"
      ],
      "execution_count": 24,
      "outputs": []
    },
    {
      "cell_type": "code",
      "metadata": {
        "id": "PWsgGIbZpnJ5",
        "colab": {
          "base_uri": "https://localhost:8080/",
          "height": 261
        },
        "outputId": "8348682b-98f3-4f86-92fd-7a56a775798a"
      },
      "source": [
        "dataFrame.head()"
      ],
      "execution_count": 25,
      "outputs": [
        {
          "output_type": "execute_result",
          "data": {
            "text/html": [
              "<div>\n",
              "<style scoped>\n",
              "    .dataframe tbody tr th:only-of-type {\n",
              "        vertical-align: middle;\n",
              "    }\n",
              "\n",
              "    .dataframe tbody tr th {\n",
              "        vertical-align: top;\n",
              "    }\n",
              "\n",
              "    .dataframe thead th {\n",
              "        text-align: right;\n",
              "    }\n",
              "</style>\n",
              "<table border=\"1\" class=\"dataframe\">\n",
              "  <thead>\n",
              "    <tr style=\"text-align: right;\">\n",
              "      <th></th>\n",
              "      <th>Unnamed: 0</th>\n",
              "      <th>conversionDurationInMillis_cr</th>\n",
              "      <th>impressionTimeInMillis_cr</th>\n",
              "      <th>conversion_fraud</th>\n",
              "      <th>record_id</th>\n",
              "      <th>clientid_cr_802</th>\n",
              "      <th>clientid_cr_910</th>\n",
              "      <th>clientid_cr_1465</th>\n",
              "      <th>clientid_cr_1518</th>\n",
              "      <th>clientid_cr_2060</th>\n",
              "      <th>clientid_cr_2139</th>\n",
              "      <th>clientid_cr_2380</th>\n",
              "      <th>clientid_cr_3180</th>\n",
              "      <th>clientid_cr_7063</th>\n",
              "      <th>clientid_cr_7750</th>\n",
              "      <th>clientid_cr_8895</th>\n",
              "      <th>clientid_cr_10305</th>\n",
              "      <th>clientid_cr_11451</th>\n",
              "      <th>clientid_cr_12510</th>\n",
              "      <th>clientid_cr_16664</th>\n",
              "      <th>clientid_cr_17232</th>\n",
              "      <th>clientid_cr_24075</th>\n",
              "      <th>clientid_cr_25470</th>\n",
              "      <th>clientid_cr_26329</th>\n",
              "      <th>clientid_cr_28602</th>\n",
              "      <th>clientid_cr_29892</th>\n",
              "      <th>clientid_cr_30431</th>\n",
              "      <th>clientid_cr_30797</th>\n",
              "      <th>clientid_cr_31365</th>\n",
              "      <th>clientid_cr_32847</th>\n",
              "      <th>clientid_cr_35702</th>\n",
              "      <th>clientid_cr_43051</th>\n",
              "      <th>clientid_cr_43386</th>\n",
              "      <th>clientid_cr_51483</th>\n",
              "      <th>clientid_cr_64588</th>\n",
              "      <th>clientid_cr_64731</th>\n",
              "      <th>clientid_cr_66066</th>\n",
              "      <th>clientid_cr_66839</th>\n",
              "      <th>clientid_cr_67368</th>\n",
              "      <th>clientid_cr_67615</th>\n",
              "      <th>...</th>\n",
              "      <th>advClientId_86431.0</th>\n",
              "      <th>advClientId_86495.0</th>\n",
              "      <th>advClientId_86530.0</th>\n",
              "      <th>advClientId_86555.0</th>\n",
              "      <th>devTypeDimId_-1.0</th>\n",
              "      <th>devTypeDimId_0.0</th>\n",
              "      <th>devTypeDimId_129276.0</th>\n",
              "      <th>devTypeDimId_196041.0</th>\n",
              "      <th>devTypeDimId_196047.0</th>\n",
              "      <th>devTypeDimId_196073.0</th>\n",
              "      <th>devTypeDimId_196169.0</th>\n",
              "      <th>devTypeDimId_196180.0</th>\n",
              "      <th>devTypeDimId_196182.0</th>\n",
              "      <th>devTypeDimId_196191.0</th>\n",
              "      <th>devTypeDimId_196320.0</th>\n",
              "      <th>devTypeDimId_196338.0</th>\n",
              "      <th>devTypeDimId_196376.0</th>\n",
              "      <th>devTypeDimId_196460.0</th>\n",
              "      <th>devTypeDimId_196469.0</th>\n",
              "      <th>devTypeDimId_196472.0</th>\n",
              "      <th>devTypeDimId_200709.0</th>\n",
              "      <th>devTypeDimId_200866.0</th>\n",
              "      <th>devTypeDimId_201752.0</th>\n",
              "      <th>devTypeDimId_202038.0</th>\n",
              "      <th>devTypeDimId_202149.0</th>\n",
              "      <th>devTypeDimId_202189.0</th>\n",
              "      <th>devTypeDimId_203140.0</th>\n",
              "      <th>devTypeDimId_203206.0</th>\n",
              "      <th>devTypeDimId_204038.0</th>\n",
              "      <th>devTypeDimId_204084.0</th>\n",
              "      <th>devTypeDimId_204405.0</th>\n",
              "      <th>devTypeDimId_205209.0</th>\n",
              "      <th>devTypeDimId_205409.0</th>\n",
              "      <th>devTypeDimId_205751.0</th>\n",
              "      <th>devTypeDimId_205776.0</th>\n",
              "      <th>devTypeDimId_226503.0</th>\n",
              "      <th>devTypeDimId_228546.0</th>\n",
              "      <th>devTypeDimId_230191.0</th>\n",
              "      <th>devTypeDimId_264494.0</th>\n",
              "      <th>devTypeDimId_264496.0</th>\n",
              "    </tr>\n",
              "  </thead>\n",
              "  <tbody>\n",
              "    <tr>\n",
              "      <th>0</th>\n",
              "      <td>0</td>\n",
              "      <td>-0.110122</td>\n",
              "      <td>0.062705</td>\n",
              "      <td>False</td>\n",
              "      <td>NaN</td>\n",
              "      <td>0</td>\n",
              "      <td>0</td>\n",
              "      <td>0</td>\n",
              "      <td>0</td>\n",
              "      <td>0</td>\n",
              "      <td>0</td>\n",
              "      <td>0</td>\n",
              "      <td>0</td>\n",
              "      <td>0</td>\n",
              "      <td>0</td>\n",
              "      <td>0</td>\n",
              "      <td>0</td>\n",
              "      <td>0</td>\n",
              "      <td>0</td>\n",
              "      <td>0</td>\n",
              "      <td>0</td>\n",
              "      <td>0</td>\n",
              "      <td>0</td>\n",
              "      <td>0</td>\n",
              "      <td>0</td>\n",
              "      <td>0</td>\n",
              "      <td>0</td>\n",
              "      <td>0</td>\n",
              "      <td>0</td>\n",
              "      <td>0</td>\n",
              "      <td>0</td>\n",
              "      <td>0</td>\n",
              "      <td>0</td>\n",
              "      <td>0</td>\n",
              "      <td>0</td>\n",
              "      <td>0</td>\n",
              "      <td>0</td>\n",
              "      <td>0</td>\n",
              "      <td>0</td>\n",
              "      <td>0</td>\n",
              "      <td>...</td>\n",
              "      <td>0</td>\n",
              "      <td>0</td>\n",
              "      <td>0</td>\n",
              "      <td>0</td>\n",
              "      <td>0</td>\n",
              "      <td>0</td>\n",
              "      <td>0</td>\n",
              "      <td>0</td>\n",
              "      <td>0</td>\n",
              "      <td>0</td>\n",
              "      <td>0</td>\n",
              "      <td>0</td>\n",
              "      <td>0</td>\n",
              "      <td>0</td>\n",
              "      <td>0</td>\n",
              "      <td>0</td>\n",
              "      <td>0</td>\n",
              "      <td>0</td>\n",
              "      <td>0</td>\n",
              "      <td>0</td>\n",
              "      <td>0</td>\n",
              "      <td>0</td>\n",
              "      <td>0</td>\n",
              "      <td>1</td>\n",
              "      <td>0</td>\n",
              "      <td>0</td>\n",
              "      <td>0</td>\n",
              "      <td>0</td>\n",
              "      <td>0</td>\n",
              "      <td>0</td>\n",
              "      <td>0</td>\n",
              "      <td>0</td>\n",
              "      <td>0</td>\n",
              "      <td>0</td>\n",
              "      <td>0</td>\n",
              "      <td>0</td>\n",
              "      <td>0</td>\n",
              "      <td>0</td>\n",
              "      <td>0</td>\n",
              "      <td>0</td>\n",
              "    </tr>\n",
              "    <tr>\n",
              "      <th>1</th>\n",
              "      <td>1</td>\n",
              "      <td>-0.110120</td>\n",
              "      <td>0.062705</td>\n",
              "      <td>False</td>\n",
              "      <td>NaN</td>\n",
              "      <td>0</td>\n",
              "      <td>0</td>\n",
              "      <td>0</td>\n",
              "      <td>0</td>\n",
              "      <td>0</td>\n",
              "      <td>0</td>\n",
              "      <td>0</td>\n",
              "      <td>0</td>\n",
              "      <td>0</td>\n",
              "      <td>0</td>\n",
              "      <td>0</td>\n",
              "      <td>0</td>\n",
              "      <td>0</td>\n",
              "      <td>0</td>\n",
              "      <td>0</td>\n",
              "      <td>0</td>\n",
              "      <td>0</td>\n",
              "      <td>0</td>\n",
              "      <td>0</td>\n",
              "      <td>0</td>\n",
              "      <td>0</td>\n",
              "      <td>0</td>\n",
              "      <td>0</td>\n",
              "      <td>0</td>\n",
              "      <td>0</td>\n",
              "      <td>0</td>\n",
              "      <td>0</td>\n",
              "      <td>0</td>\n",
              "      <td>0</td>\n",
              "      <td>0</td>\n",
              "      <td>0</td>\n",
              "      <td>0</td>\n",
              "      <td>0</td>\n",
              "      <td>0</td>\n",
              "      <td>0</td>\n",
              "      <td>...</td>\n",
              "      <td>0</td>\n",
              "      <td>0</td>\n",
              "      <td>0</td>\n",
              "      <td>0</td>\n",
              "      <td>0</td>\n",
              "      <td>0</td>\n",
              "      <td>0</td>\n",
              "      <td>0</td>\n",
              "      <td>0</td>\n",
              "      <td>0</td>\n",
              "      <td>0</td>\n",
              "      <td>0</td>\n",
              "      <td>0</td>\n",
              "      <td>0</td>\n",
              "      <td>0</td>\n",
              "      <td>0</td>\n",
              "      <td>0</td>\n",
              "      <td>0</td>\n",
              "      <td>0</td>\n",
              "      <td>0</td>\n",
              "      <td>0</td>\n",
              "      <td>0</td>\n",
              "      <td>0</td>\n",
              "      <td>1</td>\n",
              "      <td>0</td>\n",
              "      <td>0</td>\n",
              "      <td>0</td>\n",
              "      <td>0</td>\n",
              "      <td>0</td>\n",
              "      <td>0</td>\n",
              "      <td>0</td>\n",
              "      <td>0</td>\n",
              "      <td>0</td>\n",
              "      <td>0</td>\n",
              "      <td>0</td>\n",
              "      <td>0</td>\n",
              "      <td>0</td>\n",
              "      <td>0</td>\n",
              "      <td>0</td>\n",
              "      <td>0</td>\n",
              "    </tr>\n",
              "    <tr>\n",
              "      <th>2</th>\n",
              "      <td>2</td>\n",
              "      <td>-0.110101</td>\n",
              "      <td>0.062705</td>\n",
              "      <td>False</td>\n",
              "      <td>NaN</td>\n",
              "      <td>0</td>\n",
              "      <td>0</td>\n",
              "      <td>0</td>\n",
              "      <td>0</td>\n",
              "      <td>0</td>\n",
              "      <td>0</td>\n",
              "      <td>0</td>\n",
              "      <td>0</td>\n",
              "      <td>0</td>\n",
              "      <td>0</td>\n",
              "      <td>0</td>\n",
              "      <td>0</td>\n",
              "      <td>0</td>\n",
              "      <td>0</td>\n",
              "      <td>0</td>\n",
              "      <td>0</td>\n",
              "      <td>0</td>\n",
              "      <td>0</td>\n",
              "      <td>0</td>\n",
              "      <td>0</td>\n",
              "      <td>0</td>\n",
              "      <td>0</td>\n",
              "      <td>0</td>\n",
              "      <td>0</td>\n",
              "      <td>0</td>\n",
              "      <td>0</td>\n",
              "      <td>0</td>\n",
              "      <td>0</td>\n",
              "      <td>0</td>\n",
              "      <td>0</td>\n",
              "      <td>0</td>\n",
              "      <td>0</td>\n",
              "      <td>0</td>\n",
              "      <td>0</td>\n",
              "      <td>0</td>\n",
              "      <td>...</td>\n",
              "      <td>0</td>\n",
              "      <td>0</td>\n",
              "      <td>0</td>\n",
              "      <td>0</td>\n",
              "      <td>0</td>\n",
              "      <td>0</td>\n",
              "      <td>0</td>\n",
              "      <td>0</td>\n",
              "      <td>0</td>\n",
              "      <td>0</td>\n",
              "      <td>0</td>\n",
              "      <td>0</td>\n",
              "      <td>0</td>\n",
              "      <td>0</td>\n",
              "      <td>0</td>\n",
              "      <td>0</td>\n",
              "      <td>0</td>\n",
              "      <td>0</td>\n",
              "      <td>0</td>\n",
              "      <td>0</td>\n",
              "      <td>0</td>\n",
              "      <td>0</td>\n",
              "      <td>0</td>\n",
              "      <td>1</td>\n",
              "      <td>0</td>\n",
              "      <td>0</td>\n",
              "      <td>0</td>\n",
              "      <td>0</td>\n",
              "      <td>0</td>\n",
              "      <td>0</td>\n",
              "      <td>0</td>\n",
              "      <td>0</td>\n",
              "      <td>0</td>\n",
              "      <td>0</td>\n",
              "      <td>0</td>\n",
              "      <td>0</td>\n",
              "      <td>0</td>\n",
              "      <td>0</td>\n",
              "      <td>0</td>\n",
              "      <td>0</td>\n",
              "    </tr>\n",
              "    <tr>\n",
              "      <th>3</th>\n",
              "      <td>3</td>\n",
              "      <td>-0.110120</td>\n",
              "      <td>0.062705</td>\n",
              "      <td>False</td>\n",
              "      <td>NaN</td>\n",
              "      <td>0</td>\n",
              "      <td>0</td>\n",
              "      <td>0</td>\n",
              "      <td>0</td>\n",
              "      <td>0</td>\n",
              "      <td>0</td>\n",
              "      <td>0</td>\n",
              "      <td>0</td>\n",
              "      <td>0</td>\n",
              "      <td>0</td>\n",
              "      <td>0</td>\n",
              "      <td>0</td>\n",
              "      <td>0</td>\n",
              "      <td>0</td>\n",
              "      <td>0</td>\n",
              "      <td>0</td>\n",
              "      <td>0</td>\n",
              "      <td>0</td>\n",
              "      <td>0</td>\n",
              "      <td>0</td>\n",
              "      <td>0</td>\n",
              "      <td>0</td>\n",
              "      <td>0</td>\n",
              "      <td>0</td>\n",
              "      <td>0</td>\n",
              "      <td>0</td>\n",
              "      <td>0</td>\n",
              "      <td>0</td>\n",
              "      <td>0</td>\n",
              "      <td>0</td>\n",
              "      <td>0</td>\n",
              "      <td>0</td>\n",
              "      <td>0</td>\n",
              "      <td>0</td>\n",
              "      <td>0</td>\n",
              "      <td>...</td>\n",
              "      <td>0</td>\n",
              "      <td>0</td>\n",
              "      <td>0</td>\n",
              "      <td>0</td>\n",
              "      <td>0</td>\n",
              "      <td>0</td>\n",
              "      <td>0</td>\n",
              "      <td>0</td>\n",
              "      <td>1</td>\n",
              "      <td>0</td>\n",
              "      <td>0</td>\n",
              "      <td>0</td>\n",
              "      <td>0</td>\n",
              "      <td>0</td>\n",
              "      <td>0</td>\n",
              "      <td>0</td>\n",
              "      <td>0</td>\n",
              "      <td>0</td>\n",
              "      <td>0</td>\n",
              "      <td>0</td>\n",
              "      <td>0</td>\n",
              "      <td>0</td>\n",
              "      <td>0</td>\n",
              "      <td>0</td>\n",
              "      <td>0</td>\n",
              "      <td>0</td>\n",
              "      <td>0</td>\n",
              "      <td>0</td>\n",
              "      <td>0</td>\n",
              "      <td>0</td>\n",
              "      <td>0</td>\n",
              "      <td>0</td>\n",
              "      <td>0</td>\n",
              "      <td>0</td>\n",
              "      <td>0</td>\n",
              "      <td>0</td>\n",
              "      <td>0</td>\n",
              "      <td>0</td>\n",
              "      <td>0</td>\n",
              "      <td>0</td>\n",
              "    </tr>\n",
              "    <tr>\n",
              "      <th>4</th>\n",
              "      <td>4</td>\n",
              "      <td>-0.109799</td>\n",
              "      <td>0.062705</td>\n",
              "      <td>False</td>\n",
              "      <td>NaN</td>\n",
              "      <td>0</td>\n",
              "      <td>0</td>\n",
              "      <td>0</td>\n",
              "      <td>0</td>\n",
              "      <td>0</td>\n",
              "      <td>0</td>\n",
              "      <td>0</td>\n",
              "      <td>0</td>\n",
              "      <td>0</td>\n",
              "      <td>0</td>\n",
              "      <td>0</td>\n",
              "      <td>0</td>\n",
              "      <td>0</td>\n",
              "      <td>0</td>\n",
              "      <td>0</td>\n",
              "      <td>0</td>\n",
              "      <td>0</td>\n",
              "      <td>1</td>\n",
              "      <td>0</td>\n",
              "      <td>0</td>\n",
              "      <td>0</td>\n",
              "      <td>0</td>\n",
              "      <td>0</td>\n",
              "      <td>0</td>\n",
              "      <td>0</td>\n",
              "      <td>0</td>\n",
              "      <td>0</td>\n",
              "      <td>0</td>\n",
              "      <td>0</td>\n",
              "      <td>0</td>\n",
              "      <td>0</td>\n",
              "      <td>0</td>\n",
              "      <td>0</td>\n",
              "      <td>0</td>\n",
              "      <td>0</td>\n",
              "      <td>...</td>\n",
              "      <td>0</td>\n",
              "      <td>0</td>\n",
              "      <td>0</td>\n",
              "      <td>0</td>\n",
              "      <td>0</td>\n",
              "      <td>0</td>\n",
              "      <td>0</td>\n",
              "      <td>0</td>\n",
              "      <td>0</td>\n",
              "      <td>0</td>\n",
              "      <td>0</td>\n",
              "      <td>0</td>\n",
              "      <td>0</td>\n",
              "      <td>0</td>\n",
              "      <td>0</td>\n",
              "      <td>0</td>\n",
              "      <td>0</td>\n",
              "      <td>1</td>\n",
              "      <td>0</td>\n",
              "      <td>0</td>\n",
              "      <td>0</td>\n",
              "      <td>0</td>\n",
              "      <td>0</td>\n",
              "      <td>0</td>\n",
              "      <td>0</td>\n",
              "      <td>0</td>\n",
              "      <td>0</td>\n",
              "      <td>0</td>\n",
              "      <td>0</td>\n",
              "      <td>0</td>\n",
              "      <td>0</td>\n",
              "      <td>0</td>\n",
              "      <td>0</td>\n",
              "      <td>0</td>\n",
              "      <td>0</td>\n",
              "      <td>0</td>\n",
              "      <td>0</td>\n",
              "      <td>0</td>\n",
              "      <td>0</td>\n",
              "      <td>0</td>\n",
              "    </tr>\n",
              "  </tbody>\n",
              "</table>\n",
              "<p>5 rows × 3912 columns</p>\n",
              "</div>"
            ],
            "text/plain": [
              "   Unnamed: 0  ...  devTypeDimId_264496.0\n",
              "0           0  ...                      0\n",
              "1           1  ...                      0\n",
              "2           2  ...                      0\n",
              "3           3  ...                      0\n",
              "4           4  ...                      0\n",
              "\n",
              "[5 rows x 3912 columns]"
            ]
          },
          "metadata": {
            "tags": []
          },
          "execution_count": 25
        }
      ]
    },
    {
      "cell_type": "code",
      "metadata": {
        "colab": {
          "base_uri": "https://localhost:8080/"
        },
        "id": "THKL4is5wzrU",
        "outputId": "e08fd972-4543-4c51-d3e5-1c948c7ef6cb"
      },
      "source": [
        "dataFrame.shape"
      ],
      "execution_count": 27,
      "outputs": [
        {
          "output_type": "execute_result",
          "data": {
            "text/plain": [
              "(1531, 3912)"
            ]
          },
          "metadata": {
            "tags": []
          },
          "execution_count": 27
        }
      ]
    },
    {
      "cell_type": "code",
      "metadata": {
        "colab": {
          "base_uri": "https://localhost:8080/"
        },
        "id": "eMCjxPagwywz",
        "outputId": "cdb5fd5f-e227-4b24-9e98-c258f9b1195c"
      },
      "source": [
        "train = dataFrame[dataFrame[\"conversion_fraud\"].notnull()]\n",
        "train.shape"
      ],
      "execution_count": 31,
      "outputs": [
        {
          "output_type": "execute_result",
          "data": {
            "text/plain": [
              "(1042, 3912)"
            ]
          },
          "metadata": {
            "tags": []
          },
          "execution_count": 31
        }
      ]
    },
    {
      "cell_type": "code",
      "metadata": {
        "colab": {
          "base_uri": "https://localhost:8080/"
        },
        "id": "-akLpizd1Kgi",
        "outputId": "f5a2bbda-9af3-40f6-aa64-7c666fc1a905"
      },
      "source": [
        "train.drop(\"record_id\",axis=1,inplace=True)"
      ],
      "execution_count": 46,
      "outputs": [
        {
          "output_type": "stream",
          "text": [
            "/usr/local/lib/python3.7/dist-packages/pandas/core/frame.py:4174: SettingWithCopyWarning: \n",
            "A value is trying to be set on a copy of a slice from a DataFrame\n",
            "\n",
            "See the caveats in the documentation: https://pandas.pydata.org/pandas-docs/stable/user_guide/indexing.html#returning-a-view-versus-a-copy\n",
            "  errors=errors,\n"
          ],
          "name": "stderr"
        }
      ]
    },
    {
      "cell_type": "code",
      "metadata": {
        "colab": {
          "base_uri": "https://localhost:8080/"
        },
        "id": "FrjbPw0n1meT",
        "outputId": "678c5a60-8937-4d38-cf75-6d3a52eab164"
      },
      "source": [
        "train.isna().any().any()"
      ],
      "execution_count": 47,
      "outputs": [
        {
          "output_type": "execute_result",
          "data": {
            "text/plain": [
              "False"
            ]
          },
          "metadata": {
            "tags": []
          },
          "execution_count": 47
        }
      ]
    },
    {
      "cell_type": "code",
      "metadata": {
        "colab": {
          "base_uri": "https://localhost:8080/"
        },
        "id": "zjk5r8SRyT95",
        "outputId": "35badbda-d350-4176-f4b6-259d8b6816dd"
      },
      "source": [
        "test = dataFrame[dataFrame[\"record_id\"].notnull()]\n",
        "test.shape"
      ],
      "execution_count": 34,
      "outputs": [
        {
          "output_type": "execute_result",
          "data": {
            "text/plain": [
              "(489, 3912)"
            ]
          },
          "metadata": {
            "tags": []
          },
          "execution_count": 34
        }
      ]
    },
    {
      "cell_type": "code",
      "metadata": {
        "colab": {
          "base_uri": "https://localhost:8080/"
        },
        "id": "4fyE4gH80mbo",
        "outputId": "466a8f36-af4b-49a9-badc-ed62300ce181"
      },
      "source": [
        "test.drop(\"conversion_fraud\",axis=1,inplace=True)"
      ],
      "execution_count": 42,
      "outputs": [
        {
          "output_type": "stream",
          "text": [
            "/usr/local/lib/python3.7/dist-packages/pandas/core/frame.py:4174: SettingWithCopyWarning: \n",
            "A value is trying to be set on a copy of a slice from a DataFrame\n",
            "\n",
            "See the caveats in the documentation: https://pandas.pydata.org/pandas-docs/stable/user_guide/indexing.html#returning-a-view-versus-a-copy\n",
            "  errors=errors,\n"
          ],
          "name": "stderr"
        }
      ]
    },
    {
      "cell_type": "code",
      "metadata": {
        "colab": {
          "base_uri": "https://localhost:8080/"
        },
        "id": "8NOwGMws1EUm",
        "outputId": "25289786-f31a-43c3-f494-fbb4300a068f"
      },
      "source": [
        "test.shape"
      ],
      "execution_count": 43,
      "outputs": [
        {
          "output_type": "execute_result",
          "data": {
            "text/plain": [
              "(489, 3911)"
            ]
          },
          "metadata": {
            "tags": []
          },
          "execution_count": 43
        }
      ]
    },
    {
      "cell_type": "code",
      "metadata": {
        "id": "i4Gno9XWsPD7"
      },
      "source": [
        "x_train,y_train = train.drop(labels=[\"conversion_fraud\"],axis=1),pd.DataFrame(train[\"conversion_fraud\"])"
      ],
      "execution_count": 48,
      "outputs": []
    },
    {
      "cell_type": "code",
      "metadata": {
        "colab": {
          "base_uri": "https://localhost:8080/"
        },
        "id": "KAmaBP7kzknL",
        "outputId": "bd7c5747-bd3a-4827-ca68-62b450e0bd99"
      },
      "source": [
        "x_train.shape"
      ],
      "execution_count": 50,
      "outputs": [
        {
          "output_type": "execute_result",
          "data": {
            "text/plain": [
              "(1042, 3910)"
            ]
          },
          "metadata": {
            "tags": []
          },
          "execution_count": 50
        }
      ]
    },
    {
      "cell_type": "code",
      "metadata": {
        "id": "L_sj10M0z6dM"
      },
      "source": [
        "x_test = test.drop(\"record_id\",axis = 1) "
      ],
      "execution_count": 51,
      "outputs": []
    },
    {
      "cell_type": "code",
      "metadata": {
        "colab": {
          "base_uri": "https://localhost:8080/"
        },
        "id": "GdY-jwtR2PjM",
        "outputId": "9148170e-353b-4414-cd79-8fcf4da6ce4b"
      },
      "source": [
        "x_test.shape"
      ],
      "execution_count": 101,
      "outputs": [
        {
          "output_type": "execute_result",
          "data": {
            "text/plain": [
              "(489, 3910)"
            ]
          },
          "metadata": {
            "tags": []
          },
          "execution_count": 101
        }
      ]
    },
    {
      "cell_type": "code",
      "metadata": {
        "id": "vmes1F5s2eqQ"
      },
      "source": [
        "y_train = y_train.astype({\"conversion_fraud\":\"int\"})"
      ],
      "execution_count": 58,
      "outputs": []
    },
    {
      "cell_type": "code",
      "metadata": {
        "colab": {
          "base_uri": "https://localhost:8080/"
        },
        "id": "v96qM2Yi7JV_",
        "outputId": "3be0ff20-59cf-474f-e9e3-2e906e4dd018"
      },
      "source": [
        "y_train[y_train[\"conversion_fraud\"] == 1].shape"
      ],
      "execution_count": 64,
      "outputs": [
        {
          "output_type": "execute_result",
          "data": {
            "text/plain": [
              "(212, 1)"
            ]
          },
          "metadata": {
            "tags": []
          },
          "execution_count": 64
        }
      ]
    },
    {
      "cell_type": "code",
      "metadata": {
        "id": "i5tEKQ_U3JIx"
      },
      "source": [
        "from keras.models import Sequential\n",
        "from keras.layers import Dense"
      ],
      "execution_count": 61,
      "outputs": []
    },
    {
      "cell_type": "code",
      "metadata": {
        "id": "oV9hqvNH4Dt8"
      },
      "source": [
        "model = Sequential()\n",
        "model.add(Dense(3910, input_dim=3910, activation='relu'))\n",
        "model.add(Dense(1500, activation='relu'))\n",
        "model.add(Dense(500, activation='relu'))\n",
        "model.add(Dense(1, activation='sigmoid'))\n",
        "model.compile(loss='binary_crossentropy', optimizer='adam', metrics=['accuracy'])"
      ],
      "execution_count": 62,
      "outputs": []
    },
    {
      "cell_type": "code",
      "metadata": {
        "colab": {
          "base_uri": "https://localhost:8080/"
        },
        "id": "DZYnpDxF6ocH",
        "outputId": "f22ea777-27a5-45a4-dac2-1ec9207d36a9"
      },
      "source": [
        "model.fit(x_train, y_train, epochs=10, batch_size=16)"
      ],
      "execution_count": 63,
      "outputs": [
        {
          "output_type": "stream",
          "text": [
            "Epoch 1/10\n",
            "66/66 [==============================] - 9s 127ms/step - loss: 13.2312 - accuracy: 0.6019\n",
            "Epoch 2/10\n",
            "66/66 [==============================] - 8s 126ms/step - loss: 1.7161 - accuracy: 0.7293\n",
            "Epoch 3/10\n",
            "66/66 [==============================] - 8s 126ms/step - loss: 0.4729 - accuracy: 0.8369\n",
            "Epoch 4/10\n",
            "66/66 [==============================] - 8s 127ms/step - loss: 0.2537 - accuracy: 0.8917\n",
            "Epoch 5/10\n",
            "66/66 [==============================] - 8s 127ms/step - loss: 0.4905 - accuracy: 0.8033\n",
            "Epoch 6/10\n",
            "66/66 [==============================] - 8s 127ms/step - loss: 0.1971 - accuracy: 0.9281\n",
            "Epoch 7/10\n",
            "66/66 [==============================] - 9s 129ms/step - loss: 0.1582 - accuracy: 0.9356\n",
            "Epoch 8/10\n",
            "66/66 [==============================] - 8s 127ms/step - loss: 0.0280 - accuracy: 0.9952\n",
            "Epoch 9/10\n",
            "66/66 [==============================] - 8s 127ms/step - loss: 0.3657 - accuracy: 0.9002\n",
            "Epoch 10/10\n",
            "66/66 [==============================] - 9s 129ms/step - loss: 0.2113 - accuracy: 0.9238\n"
          ],
          "name": "stdout"
        },
        {
          "output_type": "execute_result",
          "data": {
            "text/plain": [
              "<tensorflow.python.keras.callbacks.History at 0x7ff936378b50>"
            ]
          },
          "metadata": {
            "tags": []
          },
          "execution_count": 63
        }
      ]
    },
    {
      "cell_type": "code",
      "metadata": {
        "id": "0-9bo_Hb7eZA"
      },
      "source": [
        "y_pred = model.predict(x_test) > 0.65"
      ],
      "execution_count": 102,
      "outputs": []
    },
    {
      "cell_type": "code",
      "metadata": {
        "colab": {
          "base_uri": "https://localhost:8080/"
        },
        "id": "6a3cRoxd8BAA",
        "outputId": "f0c631bd-244a-45b6-cfdf-cb09993d726a"
      },
      "source": [
        "y_pred.shape"
      ],
      "execution_count": 104,
      "outputs": [
        {
          "output_type": "execute_result",
          "data": {
            "text/plain": [
              "(489, 1)"
            ]
          },
          "metadata": {
            "tags": []
          },
          "execution_count": 104
        }
      ]
    },
    {
      "cell_type": "code",
      "metadata": {
        "id": "HRWhicnr9U3_"
      },
      "source": [
        ""
      ],
      "execution_count": 104,
      "outputs": []
    },
    {
      "cell_type": "code",
      "metadata": {
        "id": "eLpOCqGr92Js"
      },
      "source": [
        "submission = pd.DataFrame(columns=['record_id',\"conversion_fraud\"])"
      ],
      "execution_count": 105,
      "outputs": []
    },
    {
      "cell_type": "code",
      "metadata": {
        "id": "7NNqn0H7_DlP"
      },
      "source": [
        "submission['record_id'] = test['record_id'].values"
      ],
      "execution_count": 109,
      "outputs": []
    },
    {
      "cell_type": "code",
      "metadata": {
        "id": "iGDDgybf-Sa4"
      },
      "source": [
        "submission['conversion_fraud'] = y_pred"
      ],
      "execution_count": 112,
      "outputs": []
    },
    {
      "cell_type": "code",
      "metadata": {
        "id": "slytTCqP_MxW"
      },
      "source": [
        "submission = submission.sort_values('record_id')\n"
      ],
      "execution_count": 120,
      "outputs": []
    },
    {
      "cell_type": "code",
      "metadata": {
        "id": "v6uNZ-I8EsCi"
      },
      "source": [
        "submission = submission.drop_duplicates()"
      ],
      "execution_count": 123,
      "outputs": []
    },
    {
      "cell_type": "code",
      "metadata": {
        "colab": {
          "base_uri": "https://localhost:8080/",
          "height": 402
        },
        "id": "FVlp49ELDg-S",
        "outputId": "0a90b2f5-775b-4456-d8e8-741e70cca073"
      },
      "source": [
        "submission.drop_duplicates()"
      ],
      "execution_count": 116,
      "outputs": [
        {
          "output_type": "execute_result",
          "data": {
            "text/html": [
              "<div>\n",
              "<style scoped>\n",
              "    .dataframe tbody tr th:only-of-type {\n",
              "        vertical-align: middle;\n",
              "    }\n",
              "\n",
              "    .dataframe tbody tr th {\n",
              "        vertical-align: top;\n",
              "    }\n",
              "\n",
              "    .dataframe thead th {\n",
              "        text-align: right;\n",
              "    }\n",
              "</style>\n",
              "<table border=\"1\" class=\"dataframe\">\n",
              "  <thead>\n",
              "    <tr style=\"text-align: right;\">\n",
              "      <th></th>\n",
              "      <th>record_id</th>\n",
              "      <th>conversion_fraud</th>\n",
              "    </tr>\n",
              "  </thead>\n",
              "  <tbody>\n",
              "    <tr>\n",
              "      <th>9</th>\n",
              "      <td>1052.0</td>\n",
              "      <td>False</td>\n",
              "    </tr>\n",
              "    <tr>\n",
              "      <th>72</th>\n",
              "      <td>1051.0</td>\n",
              "      <td>False</td>\n",
              "    </tr>\n",
              "    <tr>\n",
              "      <th>83</th>\n",
              "      <td>1050.0</td>\n",
              "      <td>False</td>\n",
              "    </tr>\n",
              "    <tr>\n",
              "      <th>89</th>\n",
              "      <td>1048.0</td>\n",
              "      <td>False</td>\n",
              "    </tr>\n",
              "    <tr>\n",
              "      <th>91</th>\n",
              "      <td>1049.0</td>\n",
              "      <td>False</td>\n",
              "    </tr>\n",
              "    <tr>\n",
              "      <th>...</th>\n",
              "      <td>...</td>\n",
              "      <td>...</td>\n",
              "    </tr>\n",
              "    <tr>\n",
              "      <th>1526</th>\n",
              "      <td>1450.0</td>\n",
              "      <td>True</td>\n",
              "    </tr>\n",
              "    <tr>\n",
              "      <th>1527</th>\n",
              "      <td>1451.0</td>\n",
              "      <td>True</td>\n",
              "    </tr>\n",
              "    <tr>\n",
              "      <th>1528</th>\n",
              "      <td>1452.0</td>\n",
              "      <td>True</td>\n",
              "    </tr>\n",
              "    <tr>\n",
              "      <th>1529</th>\n",
              "      <td>1453.0</td>\n",
              "      <td>True</td>\n",
              "    </tr>\n",
              "    <tr>\n",
              "      <th>1530</th>\n",
              "      <td>1454.0</td>\n",
              "      <td>True</td>\n",
              "    </tr>\n",
              "  </tbody>\n",
              "</table>\n",
              "<p>459 rows × 2 columns</p>\n",
              "</div>"
            ],
            "text/plain": [
              "      record_id  conversion_fraud\n",
              "9        1052.0             False\n",
              "72       1051.0             False\n",
              "83       1050.0             False\n",
              "89       1048.0             False\n",
              "91       1049.0             False\n",
              "...         ...               ...\n",
              "1526     1450.0              True\n",
              "1527     1451.0              True\n",
              "1528     1452.0              True\n",
              "1529     1453.0              True\n",
              "1530     1454.0              True\n",
              "\n",
              "[459 rows x 2 columns]"
            ]
          },
          "metadata": {
            "tags": []
          },
          "execution_count": 116
        }
      ]
    },
    {
      "cell_type": "code",
      "metadata": {
        "id": "ETd46S6xFJaO"
      },
      "source": [
        "submission.to_csv(\"./submit.csv\")"
      ],
      "execution_count": 125,
      "outputs": []
    },
    {
      "cell_type": "code",
      "metadata": {
        "colab": {
          "base_uri": "https://localhost:8080/"
        },
        "id": "HzlJ3gXk_lHa",
        "outputId": "9f84869f-5977-4bf6-a205-c27c84735973"
      },
      "source": [
        "submission.isna().any()"
      ],
      "execution_count": 126,
      "outputs": [
        {
          "output_type": "execute_result",
          "data": {
            "text/plain": [
              "record_id           False\n",
              "conversion_fraud    False\n",
              "dtype: bool"
            ]
          },
          "metadata": {
            "tags": []
          },
          "execution_count": 126
        }
      ]
    },
    {
      "cell_type": "code",
      "metadata": {
        "colab": {
          "base_uri": "https://localhost:8080/",
          "height": 639
        },
        "id": "kTQ-VqVXGIQ1",
        "outputId": "e47aee38-885b-4e84-c6f9-3567595b579f"
      },
      "source": [
        ""
      ],
      "execution_count": 129,
      "outputs": [
        {
          "output_type": "execute_result",
          "data": {
            "text/html": [
              "<div>\n",
              "<style scoped>\n",
              "    .dataframe tbody tr th:only-of-type {\n",
              "        vertical-align: middle;\n",
              "    }\n",
              "\n",
              "    .dataframe tbody tr th {\n",
              "        vertical-align: top;\n",
              "    }\n",
              "\n",
              "    .dataframe thead th {\n",
              "        text-align: right;\n",
              "    }\n",
              "</style>\n",
              "<table border=\"1\" class=\"dataframe\">\n",
              "  <thead>\n",
              "    <tr style=\"text-align: right;\">\n",
              "      <th></th>\n",
              "      <th>record_id</th>\n",
              "      <th>conversion_fraud</th>\n",
              "    </tr>\n",
              "  </thead>\n",
              "  <tbody>\n",
              "    <tr>\n",
              "      <th>1200</th>\n",
              "      <td>1196.0</td>\n",
              "      <td>True</td>\n",
              "    </tr>\n",
              "    <tr>\n",
              "      <th>1201</th>\n",
              "      <td>1197.0</td>\n",
              "      <td>True</td>\n",
              "    </tr>\n",
              "    <tr>\n",
              "      <th>1203</th>\n",
              "      <td>1198.0</td>\n",
              "      <td>False</td>\n",
              "    </tr>\n",
              "    <tr>\n",
              "      <th>1204</th>\n",
              "      <td>1199.0</td>\n",
              "      <td>True</td>\n",
              "    </tr>\n",
              "    <tr>\n",
              "      <th>1205</th>\n",
              "      <td>1200.0</td>\n",
              "      <td>True</td>\n",
              "    </tr>\n",
              "    <tr>\n",
              "      <th>1206</th>\n",
              "      <td>1201.0</td>\n",
              "      <td>True</td>\n",
              "    </tr>\n",
              "    <tr>\n",
              "      <th>1207</th>\n",
              "      <td>1202.0</td>\n",
              "      <td>True</td>\n",
              "    </tr>\n",
              "    <tr>\n",
              "      <th>1208</th>\n",
              "      <td>1203.0</td>\n",
              "      <td>True</td>\n",
              "    </tr>\n",
              "    <tr>\n",
              "      <th>1209</th>\n",
              "      <td>1204.0</td>\n",
              "      <td>True</td>\n",
              "    </tr>\n",
              "    <tr>\n",
              "      <th>1210</th>\n",
              "      <td>1205.0</td>\n",
              "      <td>False</td>\n",
              "    </tr>\n",
              "    <tr>\n",
              "      <th>1211</th>\n",
              "      <td>1206.0</td>\n",
              "      <td>True</td>\n",
              "    </tr>\n",
              "    <tr>\n",
              "      <th>1212</th>\n",
              "      <td>1207.0</td>\n",
              "      <td>False</td>\n",
              "    </tr>\n",
              "    <tr>\n",
              "      <th>1213</th>\n",
              "      <td>1208.0</td>\n",
              "      <td>True</td>\n",
              "    </tr>\n",
              "    <tr>\n",
              "      <th>1214</th>\n",
              "      <td>1209.0</td>\n",
              "      <td>True</td>\n",
              "    </tr>\n",
              "    <tr>\n",
              "      <th>1215</th>\n",
              "      <td>1210.0</td>\n",
              "      <td>True</td>\n",
              "    </tr>\n",
              "    <tr>\n",
              "      <th>1216</th>\n",
              "      <td>1211.0</td>\n",
              "      <td>True</td>\n",
              "    </tr>\n",
              "    <tr>\n",
              "      <th>1217</th>\n",
              "      <td>1212.0</td>\n",
              "      <td>True</td>\n",
              "    </tr>\n",
              "    <tr>\n",
              "      <th>1219</th>\n",
              "      <td>1213.0</td>\n",
              "      <td>False</td>\n",
              "    </tr>\n",
              "    <tr>\n",
              "      <th>1220</th>\n",
              "      <td>1214.0</td>\n",
              "      <td>True</td>\n",
              "    </tr>\n",
              "    <tr>\n",
              "      <th>1221</th>\n",
              "      <td>1215.0</td>\n",
              "      <td>False</td>\n",
              "    </tr>\n",
              "  </tbody>\n",
              "</table>\n",
              "</div>"
            ],
            "text/plain": [
              "      record_id  conversion_fraud\n",
              "1200     1196.0              True\n",
              "1201     1197.0              True\n",
              "1203     1198.0             False\n",
              "1204     1199.0              True\n",
              "1205     1200.0              True\n",
              "1206     1201.0              True\n",
              "1207     1202.0              True\n",
              "1208     1203.0              True\n",
              "1209     1204.0              True\n",
              "1210     1205.0             False\n",
              "1211     1206.0              True\n",
              "1212     1207.0             False\n",
              "1213     1208.0              True\n",
              "1214     1209.0              True\n",
              "1215     1210.0              True\n",
              "1216     1211.0              True\n",
              "1217     1212.0              True\n",
              "1219     1213.0             False\n",
              "1220     1214.0              True\n",
              "1221     1215.0             False"
            ]
          },
          "metadata": {
            "tags": []
          },
          "execution_count": 129
        }
      ]
    },
    {
      "cell_type": "code",
      "metadata": {
        "id": "va-zDvxiArRe"
      },
      "source": [
        "temp = submission.drop_duplicates(subset='record_id',keep='last')"
      ],
      "execution_count": 138,
      "outputs": []
    },
    {
      "cell_type": "code",
      "metadata": {
        "colab": {
          "base_uri": "https://localhost:8080/"
        },
        "id": "i6KyVYGDJNur",
        "outputId": "c40e077d-a4f0-453e-adae-06182be70b4a"
      },
      "source": [
        "temp.shape"
      ],
      "execution_count": 139,
      "outputs": [
        {
          "output_type": "execute_result",
          "data": {
            "text/plain": [
              "(455, 2)"
            ]
          },
          "metadata": {
            "tags": []
          },
          "execution_count": 139
        }
      ]
    },
    {
      "cell_type": "code",
      "metadata": {
        "id": "dXsDoD6zJUBm"
      },
      "source": [
        "temp = temp.astype({'record_id':'int'})"
      ],
      "execution_count": 142,
      "outputs": []
    },
    {
      "cell_type": "code",
      "metadata": {
        "id": "mGrU42OeJhWZ"
      },
      "source": [
        "temp.to_csv(\"./sub.csv\")"
      ],
      "execution_count": 144,
      "outputs": []
    },
    {
      "cell_type": "code",
      "metadata": {
        "colab": {
          "base_uri": "https://localhost:8080/",
          "height": 195
        },
        "id": "j2G9vU0tGcwH",
        "outputId": "fa707b59-e6ed-4997-ea3e-9920ca4ea653"
      },
      "source": [
        "temp[temp['conversion_fraud'] > 1]"
      ],
      "execution_count": 137,
      "outputs": [
        {
          "output_type": "execute_result",
          "data": {
            "text/html": [
              "<div>\n",
              "<style scoped>\n",
              "    .dataframe tbody tr th:only-of-type {\n",
              "        vertical-align: middle;\n",
              "    }\n",
              "\n",
              "    .dataframe tbody tr th {\n",
              "        vertical-align: top;\n",
              "    }\n",
              "\n",
              "    .dataframe thead th {\n",
              "        text-align: right;\n",
              "    }\n",
              "</style>\n",
              "<table border=\"1\" class=\"dataframe\">\n",
              "  <thead>\n",
              "    <tr style=\"text-align: right;\">\n",
              "      <th></th>\n",
              "      <th>conversion_fraud</th>\n",
              "    </tr>\n",
              "    <tr>\n",
              "      <th>record_id</th>\n",
              "      <th></th>\n",
              "    </tr>\n",
              "  </thead>\n",
              "  <tbody>\n",
              "    <tr>\n",
              "      <th>1030.0</th>\n",
              "      <td>2</td>\n",
              "    </tr>\n",
              "    <tr>\n",
              "      <th>1031.0</th>\n",
              "      <td>2</td>\n",
              "    </tr>\n",
              "    <tr>\n",
              "      <th>1034.0</th>\n",
              "      <td>2</td>\n",
              "    </tr>\n",
              "    <tr>\n",
              "      <th>1042.0</th>\n",
              "      <td>2</td>\n",
              "    </tr>\n",
              "  </tbody>\n",
              "</table>\n",
              "</div>"
            ],
            "text/plain": [
              "           conversion_fraud\n",
              "record_id                  \n",
              "1030.0                    2\n",
              "1031.0                    2\n",
              "1034.0                    2\n",
              "1042.0                    2"
            ]
          },
          "metadata": {
            "tags": []
          },
          "execution_count": 137
        }
      ]
    },
    {
      "cell_type": "code",
      "metadata": {
        "id": "2ttwQ6UOIH2W"
      },
      "source": [
        ""
      ],
      "execution_count": 144,
      "outputs": []
    }
  ]
}